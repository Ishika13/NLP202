{
  "cells": [
    {
      "cell_type": "code",
      "execution_count": 1,
      "metadata": {
        "colab": {
          "base_uri": "https://localhost:8080/"
        },
        "id": "eKEMd3sGj1sJ",
        "outputId": "d89bbf5a-e287-4856-dab7-a62836e94fe6"
      },
      "outputs": [
        {
          "output_type": "stream",
          "name": "stdout",
          "text": [
            "Requirement already satisfied: pytorch-crf in /usr/local/lib/python3.11/dist-packages (0.7.2)\n"
          ]
        }
      ],
      "source": [
        "!pip install pytorch-crf"
      ]
    },
    {
      "cell_type": "code",
      "execution_count": 2,
      "metadata": {
        "colab": {
          "base_uri": "https://localhost:8080/"
        },
        "id": "ZagzDfEwj1sL",
        "outputId": "610cc53e-0fc2-4566-d0a5-b1f852866ec5"
      },
      "outputs": [
        {
          "output_type": "stream",
          "name": "stderr",
          "text": [
            "\rEpoch 1/5:   0%|          | 0/250 [00:00<?, ?batch/s]/usr/local/lib/python3.11/dist-packages/torchcrf/__init__.py:249: UserWarning: where received a uint8 condition tensor. This behavior is deprecated and will be removed in a future version of PyTorch. Use a boolean condition instead. (Triggered internally at ../aten/src/ATen/native/TensorCompare.cpp:530.)\n",
            "  score = torch.where(mask[i].unsqueeze(1), next_score, score)\n",
            "Epoch 1/5: 100%|██████████| 250/250 [00:25<00:00,  9.97batch/s, loss=32.1]\n"
          ]
        },
        {
          "output_type": "stream",
          "name": "stdout",
          "text": [
            "cuda\n",
            "Epoch 1/5 - Total Loss: 8017.7718\n"
          ]
        },
        {
          "output_type": "stream",
          "name": "stderr",
          "text": [
            "Epoch 2/5: 100%|██████████| 250/250 [00:18<00:00, 13.48batch/s, loss=13.5]\n"
          ]
        },
        {
          "output_type": "stream",
          "name": "stdout",
          "text": [
            "cuda\n",
            "Epoch 2/5 - Total Loss: 3357.2539\n"
          ]
        },
        {
          "output_type": "stream",
          "name": "stderr",
          "text": [
            "Epoch 3/5: 100%|██████████| 250/250 [00:17<00:00, 14.00batch/s, loss=8.44]\n"
          ]
        },
        {
          "output_type": "stream",
          "name": "stdout",
          "text": [
            "cuda\n",
            "Epoch 3/5 - Total Loss: 2101.1767\n"
          ]
        },
        {
          "output_type": "stream",
          "name": "stderr",
          "text": [
            "Epoch 4/5: 100%|██████████| 250/250 [00:18<00:00, 13.36batch/s, loss=4.97]\n"
          ]
        },
        {
          "output_type": "stream",
          "name": "stdout",
          "text": [
            "cuda\n",
            "Epoch 4/5 - Total Loss: 1241.8988\n"
          ]
        },
        {
          "output_type": "stream",
          "name": "stderr",
          "text": [
            "Epoch 5/5: 100%|██████████| 250/250 [00:17<00:00, 13.96batch/s, loss=2.94]\n"
          ]
        },
        {
          "output_type": "stream",
          "name": "stdout",
          "text": [
            "cuda\n",
            "Epoch 5/5 - Total Loss: 731.9922\n",
            "Predictions for 'John is from New York': ['O', 'O', 'O', 'O', 'O']\n"
          ]
        }
      ],
      "source": [
        "# BiLSTM - CRF Implementation\n",
        "\n",
        "import torch\n",
        "import torch.nn as nn\n",
        "import torch.optim as optim\n",
        "from torchcrf import CRF\n",
        "from sklearn.preprocessing import LabelEncoder\n",
        "from torch.utils.data import DataLoader, TensorDataset\n",
        "import numpy as np\n",
        "\n",
        "class BiLSTM_CRF(nn.Module):\n",
        "    def __init__(self, vocab_size, embedding_dim, hidden_dim, tagset_size, padding_idx):\n",
        "        super(BiLSTM_CRF, self).__init__()\n",
        "        self.embedding = nn.Embedding(vocab_size, embedding_dim, padding_idx=padding_idx)\n",
        "        self.lstm = nn.LSTM(embedding_dim, hidden_dim // 2, num_layers=1, bidirectional=True, batch_first=True)\n",
        "        self.hidden2tag = nn.Linear(hidden_dim, tagset_size)\n",
        "        self.crf = CRF(tagset_size, batch_first=True)\n",
        "\n",
        "    def forward(self, sentences):\n",
        "        embeds = self.embedding(sentences)\n",
        "        lstm_out, _ = self.lstm(embeds)\n",
        "        lstm_out = self.hidden2tag(lstm_out)\n",
        "        return lstm_out\n",
        "\n",
        "    def neg_log_likelihood(self, sentences, tags):\n",
        "        lstm_out = self.forward(sentences)\n",
        "        return -self.crf(lstm_out, tags, mask=None, reduction='mean')\n",
        "\n",
        "    def predict(self, sentences):\n",
        "        lstm_out = self.forward(sentences)\n",
        "        return self.crf.decode(lstm_out)\n",
        "\n",
        "sentences = []\n",
        "tags = []\n",
        "with open(\"/content/train\",\"r\") as f:\n",
        "    sentence,tag1 = [],[]\n",
        "    for line in f.readlines():\n",
        "        if(len(line.strip())==0):\n",
        "            sentences.append(sentence)\n",
        "            tags.append(tag1)\n",
        "            tag1 = []\n",
        "            sentence = []\n",
        "        else:\n",
        "            sent,tag = line.strip().split(\"\t\")\n",
        "            sentence.append(sent)\n",
        "            tag1.append(tag)\n",
        "\n",
        "max_train = 500\n",
        "sentences = sentences[:max_train]\n",
        "tags = tags[:max_train]\n",
        "\n",
        "word_vocab = set([word for sentence in sentences for word in sentence])\n",
        "tag_vocab = set([tag for tag_list in tags for tag in tag_list])\n",
        "\n",
        "word2idx = {word: idx+1 for idx, word in enumerate(word_vocab)}\n",
        "word2idx['<PAD>'] = 0\n",
        "tag2idx = {tag: idx for idx, tag in enumerate(tag_vocab)}\n",
        "\n",
        "X_data = [[word2idx[word] for word in sentence] for sentence in sentences]\n",
        "y_data = [[tag2idx[tag] for tag in tag_list] for tag_list in tags]\n",
        "\n",
        "max_len = max(len(sentence) for sentence in X_data)\n",
        "X_data = [sentence + [0] * (max_len - len(sentence)) for sentence in X_data]\n",
        "y_data = [tag_list + [tag2idx['O']] * (max_len - len(tag_list)) for tag_list in y_data]\n",
        "\n",
        "X_tensor = torch.tensor(X_data, dtype=torch.long)\n",
        "y_tensor = torch.tensor(y_data, dtype=torch.long)\n",
        "\n",
        "batch_size = 2\n",
        "train_data = TensorDataset(X_tensor, y_tensor)\n",
        "train_loader = DataLoader(train_data, batch_size=batch_size, shuffle=True)\n",
        "\n",
        "device = torch.device(\"cuda\" if torch.cuda.is_available() else \"cpu\")\n",
        "\n",
        "embedding_dim = 100\n",
        "hidden_dim = 256\n",
        "tagset_size = len(tag2idx)\n",
        "padding_idx = word2idx['<PAD>']\n",
        "\n",
        "model = BiLSTM_CRF(vocab_size=len(word2idx), embedding_dim=embedding_dim, hidden_dim=hidden_dim, tagset_size=tagset_size, padding_idx=padding_idx)\n",
        "model.to(device)\n",
        "\n",
        "optimizer = optim.Adam(model.parameters(), lr=0.001)\n",
        "\n",
        "epochs = 5\n",
        "\n",
        "from tqdm import tqdm\n",
        "\n",
        "for epoch in range(epochs):\n",
        "    model.train()\n",
        "    total_loss = 0\n",
        "    with tqdm(train_loader, desc=f\"Epoch {epoch+1}/{epochs}\", unit=\"batch\") as batch_bar:\n",
        "        for batch_sentences, batch_tags in batch_bar:\n",
        "            batch_sentences = batch_sentences.to(device)\n",
        "            batch_tags = batch_tags.to(device)\n",
        "\n",
        "            model.zero_grad()\n",
        "            loss = model.neg_log_likelihood(batch_sentences, batch_tags)\n",
        "            total_loss += loss.item()\n",
        "\n",
        "            loss.backward()\n",
        "            optimizer.step()\n",
        "            batch_bar.set_postfix(loss=total_loss / (batch_bar.n + 1))\n",
        "\n",
        "    print(device)\n",
        "    print(f\"Epoch {epoch+1}/{epochs} - Total Loss: {total_loss:.4f}\")\n",
        "\n",
        "model.eval()"
      ]
    },
    {
      "cell_type": "code",
      "source": [
        "import torch\n",
        "\n",
        "def load_data(file_path):\n",
        "    sentences, tags = [], []\n",
        "    with open(file_path, \"r\") as f:\n",
        "        sentence, tag1 = [], []\n",
        "        for line in f.readlines():\n",
        "            if len(line.strip()) == 0:\n",
        "                sentences.append(sentence)\n",
        "                tags.append(tag1)\n",
        "                sentence, tag1 = [], []\n",
        "            else:\n",
        "                try:\n",
        "                    sent, tag = line.strip().split(\"\\t\")\n",
        "                except ValueError:\n",
        "                    sent = line.strip()\n",
        "                    tag = 'O'\n",
        "                sentence.append(sent)\n",
        "                tag1.append(tag)\n",
        "    return sentences, tags\n",
        "\n",
        "def predict_and_save(model, file_path, output_file, word2idx, tag2idx, max_len_train, device):\n",
        "    sentences, actual_tags = load_data(file_path)\n",
        "    X_data = [[word2idx.get(word, word2idx['<PAD>']) for word in sentence] for sentence in sentences]\n",
        "    max_len_current = max(len(sentence) for sentence in X_data)\n",
        "    max_len = max(max_len_train, max_len_current)\n",
        "\n",
        "    X_data = [sentence + [0] * (max_len - len(sentence)) for sentence in X_data]\n",
        "    X_tensor = torch.tensor(X_data, dtype=torch.long).to(device)\n",
        "\n",
        "    model.eval()\n",
        "    predictions = model.predict(X_tensor)\n",
        "    idx2tag = {idx: tag for tag, idx in tag2idx.items()}\n",
        "    predicted_tags = [[idx2tag[tag] for tag in pred] for pred in predictions]\n",
        "\n",
        "    with open(output_file, \"w\") as f:\n",
        "        for i in range(len(sentences)):\n",
        "            pred_tags_i = predicted_tags[i][:len(sentences[i])]\n",
        "            actual_tags_i = actual_tags[i][:len(sentences[i])]\n",
        "            for word, pred_tag, actual_tag in zip(sentences[i], pred_tags_i, actual_tags_i):\n",
        "                f.write(f\"{word}\\t{pred_tag}\\n\")\n",
        "            f.write(\"\\n\")\n",
        "\n",
        "predict_and_save(model, \"/content/test\", \"/content/test_1_output\", word2idx, tag2idx, max_len, device)\n",
        "predict_and_save(model, \"/content/dev\", \"/content/dev_1_output\", word2idx, tag2idx, max_len, device)\n",
        "\n",
        "print(\"Predictions saved to test.output and dev.output\")"
      ],
      "metadata": {
        "colab": {
          "base_uri": "https://localhost:8080/"
        },
        "id": "4uHq7mHTVuW-",
        "outputId": "5329bf62-9b17-441c-ce25-5ddb5dd05b78"
      },
      "execution_count": 3,
      "outputs": [
        {
          "output_type": "stream",
          "name": "stdout",
          "text": [
            "Predictions saved to test.output and dev.output\n"
          ]
        }
      ]
    },
    {
      "cell_type": "code",
      "source": [
        "from sklearn.metrics import classification_report\n",
        "\n",
        "def load_tags(pred_file, actual_file):\n",
        "    \"\"\"Loads predicted and actual tags from separate files.\"\"\"\n",
        "    predicted, actual = [], []\n",
        "\n",
        "    with open(pred_file, \"r\") as f:\n",
        "        pred = []\n",
        "        for line in f:\n",
        "            if line.strip():\n",
        "                _, pred_tag = line.strip().split(\"\\t\")[:2]\n",
        "                pred.append(pred_tag)\n",
        "            else:\n",
        "                predicted.append(pred)\n",
        "                pred = []\n",
        "\n",
        "    with open(actual_file, \"r\") as f:\n",
        "        act = []\n",
        "        for line in f:\n",
        "            if line.strip():\n",
        "                _, actual_tag = line.strip().split(\"\\t\")[:2]\n",
        "                act.append(actual_tag)\n",
        "            else:\n",
        "                actual.append(act)\n",
        "                act = []\n",
        "\n",
        "    return actual, predicted\n",
        "\n",
        "def evaluate(pred_file, actual_file):\n",
        "    actual, predicted = load_tags(pred_file, actual_file)\n",
        "\n",
        "    actual_flat = [tag for sentence in actual for tag in sentence]\n",
        "    predicted_flat = [tag for sentence in predicted for tag in sentence]\n",
        "\n",
        "    print(f\"Evaluation for {pred_file}:\")\n",
        "    print(classification_report(actual_flat, predicted_flat, digits=4))\n",
        "\n",
        "evaluate(\"/content/test_1_output\", \"test.answers\")\n",
        "evaluate(\"/content/dev_1_output\", \"dev.answers\")"
      ],
      "metadata": {
        "colab": {
          "base_uri": "https://localhost:8080/"
        },
        "id": "CyOp4ZzAR4OH",
        "outputId": "6c52d5d6-1e5f-4ac4-9bbf-8f88cf4e15f5"
      },
      "execution_count": 4,
      "outputs": [
        {
          "output_type": "stream",
          "name": "stdout",
          "text": [
            "Evaluation for /content/dev_1_output:\n",
            "              precision    recall  f1-score   support\n",
            "\n",
            "       B-DNA     0.1538    0.3333    0.2105         6\n",
            "       B-RNA     0.0000    0.0000    0.0000        15\n",
            " B-cell_line     0.1429    0.5000    0.2222         2\n",
            " B-cell_type     0.7200    0.3214    0.4444        56\n",
            "   B-protein     0.4253    0.2984    0.3507       124\n",
            "       I-DNA     0.3889    0.7778    0.5185         9\n",
            "       I-RNA     0.5000    0.0769    0.1333        26\n",
            " I-cell_line     0.1364    0.5000    0.2143         6\n",
            " I-cell_type     0.7955    0.4070    0.5385        86\n",
            "   I-protein     0.7119    0.2781    0.4000       151\n",
            "           O     0.8908    0.9677    0.9277      2319\n",
            "\n",
            "    accuracy                         0.8539      2800\n",
            "   macro avg     0.4423    0.4055    0.3600      2800\n",
            "weighted avg     0.8405    0.8539    0.8348      2800\n",
            "\n"
          ]
        }
      ]
    },
    {
      "cell_type": "code",
      "source": [],
      "metadata": {
        "id": "eYEAfe0pl2up"
      },
      "execution_count": null,
      "outputs": []
    },
    {
      "cell_type": "code",
      "execution_count": 1,
      "metadata": {
        "colab": {
          "base_uri": "https://localhost:8080/"
        },
        "id": "Myk1y7s0j1sM",
        "outputId": "75c9b900-7e20-4d18-b3de-530b199c13ab"
      },
      "outputs": [
        {
          "output_type": "stream",
          "name": "stdout",
          "text": [
            "['B-protein', 'O', 'B-DNA', 'B-cell_type', 'O']\n"
          ]
        },
        {
          "output_type": "stream",
          "name": "stderr",
          "text": [
            "/usr/local/lib/python3.11/dist-packages/torchcrf/__init__.py:305: UserWarning: where received a uint8 condition tensor. This behavior is deprecated and will be removed in a future version of PyTorch. Use a boolean condition instead. (Triggered internally at ../aten/src/ATen/native/TensorCompare.cpp:530.)\n",
            "  score = torch.where(mask[i].unsqueeze(1), next_score, score)\n"
          ]
        }
      ],
      "source": [
        "# Character level CNN implementation\n",
        "\n",
        "import torch\n",
        "import torch.nn as nn\n",
        "import torch.optim as optim\n",
        "import torch.nn.functional as F\n",
        "from torchcrf import CRF\n",
        "from torch.utils.data import DataLoader, TensorDataset\n",
        "\n",
        "device = torch.device('cuda' if torch.cuda.is_available() else 'cpu')\n",
        "\n",
        "class CharCNNEmbedding(nn.Module):\n",
        "    def __init__(self, char_vocab_size, char_embedding_dim, char_kernel_size, char_filters):\n",
        "        super(CharCNNEmbedding, self).__init__()\n",
        "        self.char_embedding = nn.Embedding(char_vocab_size, char_embedding_dim, padding_idx=0)\n",
        "        self.conv = nn.Conv1d(char_embedding_dim, char_filters, kernel_size=char_kernel_size)\n",
        "        self.maxpool = nn.AdaptiveMaxPool1d(1)\n",
        "\n",
        "    def forward(self, x):\n",
        "        batch_size, seq_len, word_len = x.size()\n",
        "        x = self.char_embedding(x).view(batch_size * seq_len, word_len, -1).permute(0, 2, 1)\n",
        "        x = F.relu(self.conv(x))\n",
        "        x = self.maxpool(x).squeeze(2)\n",
        "        return x.view(batch_size, seq_len, -1)\n",
        "\n",
        "class BiLSTM_CRF(nn.Module):\n",
        "    def __init__(self, vocab_size, embedding_dim, hidden_dim, tagset_size, padding_idx, char_vocab_size, char_embedding_dim, char_hidden_dim):\n",
        "        super(BiLSTM_CRF, self).__init__()\n",
        "        self.word_embedding = nn.Embedding(vocab_size, embedding_dim, padding_idx=padding_idx)\n",
        "        self.char_embedding = CharCNNEmbedding(char_vocab_size, char_embedding_dim, 3, char_hidden_dim)\n",
        "        self.lstm = nn.LSTM(embedding_dim + char_hidden_dim, hidden_dim // 2, bidirectional=True, batch_first=True)\n",
        "        self.hidden2tag = nn.Linear(hidden_dim, tagset_size)\n",
        "        self.crf = CRF(tagset_size, batch_first=True)\n",
        "\n",
        "    def forward(self, sentences, char_inputs):\n",
        "        word_embeds = self.word_embedding(sentences)\n",
        "        char_embeds = self.char_embedding(char_inputs)\n",
        "        combined_embeds = torch.cat([word_embeds, char_embeds], dim=-1)\n",
        "        lstm_out, _ = self.lstm(combined_embeds)\n",
        "        tag_scores = self.hidden2tag(lstm_out)\n",
        "        return tag_scores\n",
        "\n",
        "    def neg_log_likelihood(self, sentences, tags, char_inputs):\n",
        "        emissions = self.forward(sentences, char_inputs)\n",
        "        mask = sentences != 0\n",
        "        return -self.crf(emissions, tags, mask=mask, reduction='mean')\n",
        "\n",
        "    def predict(self, sentences, char_inputs):\n",
        "        emissions = self.forward(sentences, char_inputs)\n",
        "        return self.crf.decode(emissions)\n",
        "\n",
        "\n",
        "sentences = []\n",
        "tags = []\n",
        "with open(\"/content/train\",\"r\") as f:\n",
        "    sentence,tag1 = [],[]\n",
        "    for line in f.readlines():\n",
        "        if(len(line.strip())==0):\n",
        "            sentences.append(sentence)\n",
        "            tags.append(tag1)\n",
        "            tag1 = []\n",
        "            sentence = []\n",
        "        else:\n",
        "            sent,tag = line.strip().split(\"\t\")\n",
        "            sentence.append(sent)\n",
        "            tag1.append(tag)\n",
        "\n",
        "max_train = 500\n",
        "sentences = sentences[:max_train]\n",
        "tags = tags[:max_train]\n",
        "\n",
        "word_vocab = {word: idx + 1 for idx, word in enumerate(set(word for sent in sentences for word in sent))}\n",
        "word_vocab['<PAD>'] = 0\n",
        "\n",
        "tag_vocab = {tag: idx for idx, tag in enumerate(set(tag for tag_seq in tags for tag in tag_seq))}\n",
        "\n",
        "char_vocab = {char: idx + 1 for idx, char in enumerate(set(char for word in word_vocab for char in word))}\n",
        "char_vocab['<PAD>'] = 0\n",
        "\n",
        "X_data = [[word_vocab[word] for word in sentence] for sentence in sentences]\n",
        "y_data = [[tag_vocab[tag] for tag in tag_seq] for tag_seq in tags]\n",
        "\n",
        "char_data = [[[char_vocab[char] for char in word] for word in sentence] for sentence in sentences]\n",
        "\n",
        "max_word_len = max(len(word) for sentence in char_data for word in sentence)\n",
        "max_sentence_len = max(len(sentence) for sentence in X_data)\n",
        "\n",
        "X_data = [sentence + [0] * (max_sentence_len - len(sentence)) for sentence in X_data]\n",
        "y_data = [tag_seq + [0] * (max_sentence_len - len(tag_seq)) for tag_seq in y_data]\n",
        "char_data = [[word + [0] * (max_word_len - len(word)) for word in sentence] for sentence in char_data]\n",
        "char_data = [sentence + [[0] * max_word_len] * (max_sentence_len - len(sentence)) for sentence in char_data]\n",
        "\n",
        "X_tensor = torch.tensor(X_data, dtype=torch.long)\n",
        "y_tensor = torch.tensor(y_data, dtype=torch.long)\n",
        "char_tensor = torch.tensor(char_data, dtype=torch.long)\n",
        "\n",
        "X_tensor = X_tensor.to(device)\n",
        "y_tensor = y_tensor.to(device)\n",
        "char_tensor = char_tensor.to(device)\n",
        "\n",
        "vocab_size = len(word_vocab)\n",
        "char_vocab_size = len(char_vocab)\n",
        "embedding_dim = 100\n",
        "char_embedding_dim = 30\n",
        "char_hidden_dim = 50\n",
        "hidden_dim = 256\n",
        "tagset_size = len(tag_vocab)\n",
        "padding_idx = word_vocab['<PAD>']\n",
        "\n",
        "model = BiLSTM_CRF(vocab_size, embedding_dim, hidden_dim, tagset_size, padding_idx, char_vocab_size, char_embedding_dim, char_hidden_dim)\n",
        "model = model.to(device)\n",
        "\n",
        "optimizer = optim.Adam(model.parameters(), lr=0.001)\n",
        "model.train()\n",
        "optimizer.zero_grad()\n",
        "loss = model.neg_log_likelihood(X_tensor, y_tensor, char_tensor)\n",
        "loss.backward()\n",
        "optimizer.step()\n",
        "\n",
        "model.eval()\n",
        "\n",
        "predictions = model.predict(test_sentence_tensor, test_char_tensor)\n",
        "predicted_tags = [list(tag_vocab.keys())[tag] for tag in predictions[0]]\n",
        "print(predicted_tags)"
      ]
    },
    {
      "cell_type": "code",
      "source": [
        "import torch\n",
        "\n",
        "def load_data(file_path):\n",
        "    sentences, tags = [], []\n",
        "    with open(file_path, \"r\") as f:\n",
        "        sentence, tag1 = [], []\n",
        "        for line in f.readlines():\n",
        "            if len(line.strip()) == 0:\n",
        "                sentences.append(sentence)\n",
        "                tags.append(tag1)\n",
        "                sentence, tag1 = [], []\n",
        "            else:\n",
        "                try:\n",
        "                    sent, tag = line.strip().split(\"\\t\")\n",
        "                except ValueError:\n",
        "                    sent = line.strip()\n",
        "                    tag = 'O'\n",
        "                sentence.append(sent)\n",
        "                tag1.append(tag)\n",
        "    return sentences, tags\n",
        "\n",
        "def predict_and_save(model, file_path, output_file, word2idx, tag2idx, char2idx, max_word_len, max_len_train, device, batch_size=8):\n",
        "    sentences, actual_tags = load_data(file_path)\n",
        "\n",
        "    X_data = [[word2idx.get(word, 0) for word in sentence] for sentence in sentences]\n",
        "    max_len_current = max(len(sentence) for sentence in X_data)\n",
        "    max_len = max(max_len_train, max_len_current)\n",
        "\n",
        "    char_data = [[[char2idx.get(char, 0) for char in word] for word in sentence] for sentence in sentences]\n",
        "    char_data = [[word + [0] * (max_word_len - len(word)) for word in sentence] for sentence in char_data]\n",
        "    char_data = [sentence + [[0] * max_word_len] * (max_len - len(sentence)) for sentence in char_data]\n",
        "\n",
        "    X_data = [sentence + [0] * (max_len - len(sentence)) for sentence in X_data]\n",
        "\n",
        "    model.eval()\n",
        "    all_predictions = []\n",
        "\n",
        "    with torch.no_grad():\n",
        "        for i in range(0, len(X_data), batch_size):\n",
        "            batch_X = X_data[i:min(i+batch_size, len(X_data))]\n",
        "            batch_char = char_data[i:min(i+batch_size, len(char_data))]\n",
        "\n",
        "            X_tensor = torch.tensor(batch_X, dtype=torch.long).to(device)\n",
        "            char_tensor = torch.tensor(batch_char, dtype=torch.long).to(device)\n",
        "\n",
        "            batch_predictions = model.predict(X_tensor, char_tensor)\n",
        "            all_predictions.extend(batch_predictions)\n",
        "\n",
        "            del X_tensor, char_tensor\n",
        "            torch.cuda.empty_cache()\n",
        "\n",
        "    idx2tag = {idx: tag for tag, idx in tag2idx.items()}\n",
        "    predicted_tags = [[idx2tag[tag] for tag in pred] for pred in all_predictions]\n",
        "\n",
        "    with open(output_file, \"w\") as f:\n",
        "        for i in range(len(sentences)):\n",
        "            pred_tags_i = predicted_tags[i][:len(sentences[i])]\n",
        "            actual_tags_i = actual_tags[i][:len(sentences[i])]\n",
        "            for word, pred_tag, actual_tag in zip(sentences[i], pred_tags_i, actual_tags_i):\n",
        "                f.write(f\"{word}\\t{pred_tag}\\n\")\n",
        "            f.write(\"\\n\")\n",
        "\n",
        "batch_size = 16\n",
        "\n",
        "predict_and_save(model, \"/content/test\", \"/content/test_2_output\", word_vocab, tag_vocab, char_vocab, max_word_len, max_sentence_len, device, batch_size)\n",
        "predict_and_save(model, \"/content/dev\", \"/content/dev_2_output\", word_vocab, tag_vocab, char_vocab, max_word_len, max_sentence_len, device, batch_size)\n",
        "\n",
        "print(\"Predictions saved to test_2_output and dev_2_output\")"
      ],
      "metadata": {
        "colab": {
          "base_uri": "https://localhost:8080/"
        },
        "id": "TcPmslZbnngs",
        "outputId": "2d34fdc3-7453-467e-9e4c-4848936e3ef1"
      },
      "execution_count": 3,
      "outputs": [
        {
          "output_type": "stream",
          "name": "stdout",
          "text": [
            "Predictions saved to test_2_output and dev_2_output\n"
          ]
        }
      ]
    },
    {
      "cell_type": "code",
      "source": [
        "from sklearn.metrics import classification_report\n",
        "\n",
        "def load_tags(pred_file, actual_file):\n",
        "    predicted, actual = [], []\n",
        "\n",
        "    with open(pred_file, \"r\") as f:\n",
        "        pred = []\n",
        "        for line in f:\n",
        "            if line.strip():\n",
        "                _, pred_tag = line.strip().split(\"\\t\")[:2]\n",
        "                pred.append(pred_tag)\n",
        "            else:\n",
        "                predicted.append(pred)\n",
        "                pred = []\n",
        "\n",
        "    with open(actual_file, \"r\") as f:\n",
        "        act = []\n",
        "        for line in f:\n",
        "            if line.strip():\n",
        "                _, actual_tag = line.strip().split(\"\\t\")[:2]\n",
        "                act.append(actual_tag)\n",
        "            else:\n",
        "                actual.append(act)\n",
        "                act = []\n",
        "\n",
        "    return actual, predicted\n",
        "\n",
        "def evaluate(pred_file, actual_file):\n",
        "    actual, predicted = load_tags(pred_file, actual_file)\n",
        "    predicted = predicted[:len(actual)]\n",
        "    print(len(actual))\n",
        "    print(len(predicted))\n",
        "    actual_flat = [tag for sentence in actual for tag in sentence]\n",
        "    predicted_flat = [tag for sentence in predicted for tag in sentence]\n",
        "\n",
        "    print(f\"Evaluation for {pred_file}:\")\n",
        "    print(classification_report(actual_flat, predicted_flat, digits=4))\n",
        "\n",
        "evaluate(\"/content/test_2_output\", \"test.answers\")\n",
        "evaluate(\"/content/dev_2_output\", \"dev.answers\")"
      ],
      "metadata": {
        "colab": {
          "base_uri": "https://localhost:8080/"
        },
        "id": "bPhqQEdLSjVs",
        "outputId": "88c07dea-3390-4a6f-d0af-f6c39123b168"
      },
      "execution_count": 5,
      "outputs": [
        {
          "output_type": "stream",
          "name": "stdout",
          "text": [
            "3855\n",
            "3855\n",
            "Evaluation for /content/test_2_output:\n",
            "              precision    recall  f1-score   support\n",
            "\n",
            "       B-DNA     0.0047    0.0502    0.0085      1056\n",
            "       B-RNA     0.0000    0.0000    0.0000       118\n",
            " B-cell_line     0.0026    0.0020    0.0023       497\n",
            " B-cell_type     0.0196    0.1615    0.0350      1919\n",
            "   B-protein     0.0871    0.2041    0.1220      5067\n",
            "       I-DNA     0.0146    0.0056    0.0081      1789\n",
            "       I-RNA     0.0019    0.0053    0.0028       187\n",
            " I-cell_line     0.0050    0.0020    0.0029       983\n",
            " I-cell_type     0.0097    0.0010    0.0018      2987\n",
            "   I-protein     0.0575    0.0172    0.0265      4774\n",
            "           O     0.8047    0.5635    0.6628     81615\n",
            "\n",
            "    accuracy                         0.4702    100992\n",
            "   macro avg     0.0916    0.0920    0.0793    100992\n",
            "weighted avg     0.6584    0.4702    0.5440    100992\n",
            "\n",
            "105\n",
            "105\n",
            "Evaluation for /content/dev_2_output:\n",
            "              precision    recall  f1-score   support\n",
            "\n",
            "       B-DNA     0.0000    0.0000    0.0000         6\n",
            "       B-RNA     0.0385    0.0667    0.0488        15\n",
            " B-cell_line     0.0000    0.0000    0.0000         2\n",
            " B-cell_type     0.0116    0.0893    0.0206        56\n",
            "   B-protein     0.0714    0.1613    0.0990       124\n",
            "       I-DNA     0.0000    0.0000    0.0000         9\n",
            "       I-RNA     0.0000    0.0000    0.0000        26\n",
            " I-cell_line     0.0000    0.0000    0.0000         6\n",
            " I-cell_type     0.0000    0.0000    0.0000        86\n",
            "   I-protein     0.1316    0.0331    0.0529       151\n",
            "           O     0.8297    0.5778    0.6812      2319\n",
            "\n",
            "    accuracy                         0.4896      2800\n",
            "   macro avg     0.0984    0.0844    0.0820      2800\n",
            "weighted avg     0.6979    0.4896    0.5721      2800\n",
            "\n"
          ]
        }
      ]
    },
    {
      "cell_type": "code",
      "source": [
        "actual, predicted = load_tags(\"/content/test_2_output\", \"test.answers\")"
      ],
      "metadata": {
        "id": "ScuCgEP3idRI"
      },
      "execution_count": 15,
      "outputs": []
    },
    {
      "cell_type": "code",
      "source": [],
      "metadata": {
        "id": "KZf4imhwkk4U"
      },
      "execution_count": null,
      "outputs": []
    },
    {
      "cell_type": "code",
      "execution_count": 13,
      "metadata": {
        "colab": {
          "base_uri": "https://localhost:8080/"
        },
        "id": "WhiAD_wij1sM",
        "outputId": "f611a8f6-2014-4c09-b8ff-2f2d6cd5f2fc"
      },
      "outputs": [
        {
          "output_type": "stream",
          "name": "stderr",
          "text": [
            "\rEpoch 1/20:   0%|          | 0/32 [00:00<?, ?batch/s]"
          ]
        },
        {
          "output_type": "stream",
          "name": "stdout",
          "text": [
            "CRF Loss: 0.0499725341796875\n"
          ]
        },
        {
          "output_type": "stream",
          "name": "stderr",
          "text": [
            "Epoch 1/20:   6%|▋         | 2/32 [00:00<00:07,  3.84batch/s, loss=0.0702]"
          ]
        },
        {
          "output_type": "stream",
          "name": "stdout",
          "text": [
            "CRF Loss: 0.09042739868164062\n",
            "CRF Loss: 0.06840133666992188\n"
          ]
        },
        {
          "output_type": "stream",
          "name": "stderr",
          "text": [
            "Epoch 1/20:  12%|█▎        | 4/32 [00:00<00:05,  5.52batch/s, loss=0.0675]"
          ]
        },
        {
          "output_type": "stream",
          "name": "stdout",
          "text": [
            "CRF Loss: 0.06139373779296875\n",
            "CRF Loss: 0.208465576171875\n"
          ]
        },
        {
          "output_type": "stream",
          "name": "stderr",
          "text": [
            "Epoch 1/20:  19%|█▉        | 6/32 [00:01<00:03,  6.62batch/s, loss=0.0913]"
          ]
        },
        {
          "output_type": "stream",
          "name": "stdout",
          "text": [
            "CRF Loss: 0.06934356689453125\n",
            "CRF Loss: 0.06287765502929688\n"
          ]
        },
        {
          "output_type": "stream",
          "name": "stderr",
          "text": [
            "Epoch 1/20:  25%|██▌       | 8/32 [00:01<00:03,  6.87batch/s, loss=0.0866]"
          ]
        },
        {
          "output_type": "stream",
          "name": "stdout",
          "text": [
            "CRF Loss: 0.08157730102539062\n",
            "CRF Loss: 0.0948638916015625\n"
          ]
        },
        {
          "output_type": "stream",
          "name": "stderr",
          "text": [
            "Epoch 1/20:  31%|███▏      | 10/32 [00:01<00:02,  7.35batch/s, loss=0.0865]"
          ]
        },
        {
          "output_type": "stream",
          "name": "stdout",
          "text": [
            "CRF Loss: 0.0771942138671875\n",
            "CRF Loss: 0.06711959838867188\n"
          ]
        },
        {
          "output_type": "stream",
          "name": "stderr",
          "text": [
            "Epoch 1/20:  38%|███▊      | 12/32 [00:01<00:02,  7.13batch/s, loss=0.0848]"
          ]
        },
        {
          "output_type": "stream",
          "name": "stdout",
          "text": [
            "CRF Loss: 0.0857696533203125\n",
            "CRF Loss: 0.057895660400390625\n"
          ]
        },
        {
          "output_type": "stream",
          "name": "stderr",
          "text": [
            "Epoch 1/20:  44%|████▍     | 14/32 [00:02<00:02,  6.61batch/s, loss=0.0829]"
          ]
        },
        {
          "output_type": "stream",
          "name": "stdout",
          "text": [
            "CRF Loss: 0.08462142944335938\n",
            "CRF Loss: 0.050212860107421875\n"
          ]
        },
        {
          "output_type": "stream",
          "name": "stderr",
          "text": [
            "Epoch 1/20:  50%|█████     | 16/32 [00:02<00:02,  6.89batch/s, loss=0.0776]"
          ]
        },
        {
          "output_type": "stream",
          "name": "stdout",
          "text": [
            "CRF Loss: 0.053371429443359375\n",
            "CRF Loss: 0.05614471435546875\n",
            "CRF Loss: 0.058971405029296875\n"
          ]
        },
        {
          "output_type": "stream",
          "name": "stderr",
          "text": [
            "Epoch 1/20:  59%|█████▉    | 19/32 [00:02<00:01,  8.52batch/s, loss=0.0763]"
          ]
        },
        {
          "output_type": "stream",
          "name": "stdout",
          "text": [
            "CRF Loss: 0.07239532470703125\n",
            "CRF Loss: 0.07413482666015625\n",
            "CRF Loss: 0.06475830078125\n"
          ]
        },
        {
          "output_type": "stream",
          "name": "stderr",
          "text": [
            "Epoch 1/20:  72%|███████▏  | 23/32 [00:03<00:00,  9.56batch/s, loss=0.0788]"
          ]
        },
        {
          "output_type": "stream",
          "name": "stdout",
          "text": [
            "CRF Loss: 0.08334732055664062\n",
            "CRF Loss: 0.059963226318359375\n",
            "CRF Loss: 0.06428909301757812\n"
          ]
        },
        {
          "output_type": "stream",
          "name": "stderr",
          "text": [
            "Epoch 1/20:  78%|███████▊  | 25/32 [00:03<00:00,  9.41batch/s, loss=0.0737]"
          ]
        },
        {
          "output_type": "stream",
          "name": "stdout",
          "text": [
            "CRF Loss: 0.051334381103515625\n",
            "CRF Loss: 0.06818389892578125\n",
            "CRF Loss: 0.06565475463867188\n"
          ]
        },
        {
          "output_type": "stream",
          "name": "stderr",
          "text": [
            "Epoch 1/20:  91%|█████████ | 29/32 [00:03<00:00,  9.86batch/s, loss=0.0767]"
          ]
        },
        {
          "output_type": "stream",
          "name": "stdout",
          "text": [
            "CRF Loss: 0.05376434326171875\n",
            "CRF Loss: 0.112030029296875\n",
            "CRF Loss: 0.051845550537109375\n"
          ]
        },
        {
          "output_type": "stream",
          "name": "stderr",
          "text": [
            "Epoch 1/20: 100%|██████████| 32/32 [00:04<00:00,  7.77batch/s, loss=0.072]\n"
          ]
        },
        {
          "output_type": "stream",
          "name": "stdout",
          "text": [
            "CRF Loss: 0.06633377075195312\n",
            "CRF Loss: 0.0378875732421875\n",
            "cuda\n",
            "Epoch 1/20 - Total Loss: 2.3045\n"
          ]
        },
        {
          "output_type": "stream",
          "name": "stderr",
          "text": [
            "\rEpoch 2/20:   0%|          | 0/32 [00:00<?, ?batch/s]"
          ]
        },
        {
          "output_type": "stream",
          "name": "stdout",
          "text": [
            "CRF Loss: 0.045017242431640625\n"
          ]
        },
        {
          "output_type": "stream",
          "name": "stderr",
          "text": [
            "Epoch 2/20:   6%|▋         | 2/32 [00:00<00:02, 10.31batch/s, loss=0.0808]"
          ]
        },
        {
          "output_type": "stream",
          "name": "stdout",
          "text": [
            "CRF Loss: 0.03577423095703125\n"
          ]
        },
        {
          "output_type": "stream",
          "name": "stderr",
          "text": [
            "\rEpoch 2/20:   6%|▋         | 2/32 [00:00<00:02, 10.31batch/s, loss=0.0431]"
          ]
        },
        {
          "output_type": "stream",
          "name": "stdout",
          "text": [
            "CRF Loss: 0.048419952392578125\n"
          ]
        },
        {
          "output_type": "stream",
          "name": "stderr",
          "text": [
            "Epoch 2/20:  12%|█▎        | 4/32 [00:00<00:02,  9.74batch/s, loss=0.0555]"
          ]
        },
        {
          "output_type": "stream",
          "name": "stdout",
          "text": [
            "CRF Loss: 0.0372772216796875\n",
            "CRF Loss: 0.02689361572265625\n"
          ]
        },
        {
          "output_type": "stream",
          "name": "stderr",
          "text": [
            "\rEpoch 2/20:  12%|█▎        | 4/32 [00:00<00:02,  9.74batch/s, loss=0.0387]"
          ]
        },
        {
          "output_type": "stream",
          "name": "stdout",
          "text": [
            "CRF Loss: 0.04083251953125\n"
          ]
        },
        {
          "output_type": "stream",
          "name": "stderr",
          "text": [
            "Epoch 2/20:  19%|█▉        | 6/32 [00:00<00:02,  9.95batch/s, loss=0.0406]"
          ]
        },
        {
          "output_type": "stream",
          "name": "stdout",
          "text": [
            "CRF Loss: 0.049922943115234375\n",
            "CRF Loss: 0.032985687255859375\n"
          ]
        },
        {
          "output_type": "stream",
          "name": "stderr",
          "text": [
            "Epoch 2/20:  25%|██▌       | 8/32 [00:00<00:02, 10.06batch/s, loss=0.0453]"
          ]
        },
        {
          "output_type": "stream",
          "name": "stdout",
          "text": [
            "CRF Loss: 0.02446746826171875\n"
          ]
        },
        {
          "output_type": "stream",
          "name": "stderr",
          "text": [
            "Epoch 2/20:  31%|███▏      | 10/32 [00:00<00:02, 10.20batch/s, loss=0.0413]"
          ]
        },
        {
          "output_type": "stream",
          "name": "stdout",
          "text": [
            "CRF Loss: 0.0300445556640625\n",
            "CRF Loss: 0.028263092041015625\n"
          ]
        },
        {
          "output_type": "stream",
          "name": "stderr",
          "text": [
            "\rEpoch 2/20:  31%|███▏      | 10/32 [00:01<00:02, 10.20batch/s, loss=0.0364]"
          ]
        },
        {
          "output_type": "stream",
          "name": "stdout",
          "text": [
            "CRF Loss: 0.028224945068359375\n"
          ]
        },
        {
          "output_type": "stream",
          "name": "stderr",
          "text": [
            "Epoch 2/20:  38%|███▊      | 12/32 [00:01<00:01, 10.22batch/s, loss=0.0354]"
          ]
        },
        {
          "output_type": "stream",
          "name": "stdout",
          "text": [
            "CRF Loss: 0.032070159912109375\n"
          ]
        },
        {
          "output_type": "stream",
          "name": "stderr",
          "text": [
            "Epoch 2/20:  44%|████▍     | 14/32 [00:01<00:01,  9.92batch/s, loss=0.0379]"
          ]
        },
        {
          "output_type": "stream",
          "name": "stdout",
          "text": [
            "CRF Loss: 0.031864166259765625\n"
          ]
        },
        {
          "output_type": "stream",
          "name": "stderr",
          "text": [
            "Epoch 2/20:  47%|████▋     | 15/32 [00:01<00:01,  9.91batch/s, loss=0.0341]"
          ]
        },
        {
          "output_type": "stream",
          "name": "stdout",
          "text": [
            "CRF Loss: 0.019256591796875\n",
            "CRF Loss: 0.03340911865234375\n"
          ]
        },
        {
          "output_type": "stream",
          "name": "stderr",
          "text": [
            "\rEpoch 2/20:  47%|████▋     | 15/32 [00:01<00:01,  9.91batch/s, loss=0.034] "
          ]
        },
        {
          "output_type": "stream",
          "name": "stdout",
          "text": [
            "CRF Loss: 0.022846221923828125\n"
          ]
        },
        {
          "output_type": "stream",
          "name": "stderr",
          "text": [
            "Epoch 2/20:  53%|█████▎    | 17/32 [00:01<00:01, 10.03batch/s, loss=0.0332]"
          ]
        },
        {
          "output_type": "stream",
          "name": "stdout",
          "text": [
            "CRF Loss: 0.030178070068359375\n",
            "CRF Loss: 0.031951904296875\n"
          ]
        },
        {
          "output_type": "stream",
          "name": "stderr",
          "text": [
            "Epoch 2/20:  59%|█████▉    | 19/32 [00:01<00:01, 10.09batch/s, loss=0.035]"
          ]
        },
        {
          "output_type": "stream",
          "name": "stdout",
          "text": [
            "CRF Loss: 0.06537246704101562\n"
          ]
        },
        {
          "output_type": "stream",
          "name": "stderr",
          "text": [
            "Epoch 2/20:  66%|██████▌   | 21/32 [00:02<00:01, 10.18batch/s, loss=0.0363]"
          ]
        },
        {
          "output_type": "stream",
          "name": "stdout",
          "text": [
            "CRF Loss: 0.031566619873046875\n",
            "CRF Loss: 0.049350738525390625\n"
          ]
        },
        {
          "output_type": "stream",
          "name": "stderr",
          "text": [
            "Epoch 2/20:  72%|███████▏  | 23/32 [00:02<00:00,  9.84batch/s, loss=0.0342]"
          ]
        },
        {
          "output_type": "stream",
          "name": "stdout",
          "text": [
            "CRF Loss: 0.02104949951171875\n",
            "CRF Loss: 0.023193359375\n"
          ]
        },
        {
          "output_type": "stream",
          "name": "stderr",
          "text": [
            "Epoch 2/20:  78%|███████▊  | 25/32 [00:02<00:00, 10.00batch/s, loss=0.034] "
          ]
        },
        {
          "output_type": "stream",
          "name": "stdout",
          "text": [
            "CRF Loss: 0.02370452880859375\n",
            "CRF Loss: 0.03878021240234375\n",
            "CRF Loss: 0.032886505126953125\n"
          ]
        },
        {
          "output_type": "stream",
          "name": "stderr",
          "text": [
            "Epoch 2/20:  91%|█████████ | 29/32 [00:02<00:00, 10.22batch/s, loss=0.0351]"
          ]
        },
        {
          "output_type": "stream",
          "name": "stdout",
          "text": [
            "CRF Loss: 0.0442047119140625\n",
            "CRF Loss: 0.024089813232421875\n",
            "CRF Loss: 0.03572845458984375\n"
          ]
        },
        {
          "output_type": "stream",
          "name": "stderr",
          "text": [
            "Epoch 2/20: 100%|██████████| 32/32 [00:03<00:00, 10.12batch/s, loss=0.0337]\n"
          ]
        },
        {
          "output_type": "stream",
          "name": "stdout",
          "text": [
            "CRF Loss: 0.0292205810546875\n",
            "CRF Loss: 0.02825927734375\n",
            "cuda\n",
            "Epoch 2/20 - Total Loss: 1.0771\n"
          ]
        },
        {
          "output_type": "stream",
          "name": "stderr",
          "text": [
            "\rEpoch 3/20:   0%|          | 0/32 [00:00<?, ?batch/s]"
          ]
        },
        {
          "output_type": "stream",
          "name": "stdout",
          "text": [
            "CRF Loss: 0.0384979248046875\n"
          ]
        },
        {
          "output_type": "stream",
          "name": "stderr",
          "text": [
            "Epoch 3/20:   6%|▋         | 2/32 [00:00<00:03,  9.27batch/s, loss=0.0358]"
          ]
        },
        {
          "output_type": "stream",
          "name": "stdout",
          "text": [
            "CRF Loss: 0.03301239013671875\n"
          ]
        },
        {
          "output_type": "stream",
          "name": "stderr",
          "text": [
            "\rEpoch 3/20:   6%|▋         | 2/32 [00:00<00:03,  9.27batch/s, loss=0.03]  "
          ]
        },
        {
          "output_type": "stream",
          "name": "stdout",
          "text": [
            "CRF Loss: 0.018520355224609375\n",
            "CRF Loss: 0.0246124267578125\n"
          ]
        },
        {
          "output_type": "stream",
          "name": "stderr",
          "text": [
            "Epoch 3/20:  12%|█▎        | 4/32 [00:00<00:02,  9.81batch/s, loss=0.0382]"
          ]
        },
        {
          "output_type": "stream",
          "name": "stdout",
          "text": [
            "CRF Loss: 0.017238616943359375\n"
          ]
        },
        {
          "output_type": "stream",
          "name": "stderr",
          "text": [
            "Epoch 3/20:  19%|█▉        | 6/32 [00:00<00:02, 10.02batch/s, loss=0.0312]"
          ]
        },
        {
          "output_type": "stream",
          "name": "stdout",
          "text": [
            "CRF Loss: 0.024242401123046875\n",
            "CRF Loss: 0.01403045654296875\n"
          ]
        },
        {
          "output_type": "stream",
          "name": "stderr",
          "text": [
            "\rEpoch 3/20:  19%|█▉        | 6/32 [00:00<00:02, 10.02batch/s, loss=0.0243]"
          ]
        },
        {
          "output_type": "stream",
          "name": "stdout",
          "text": [
            "CRF Loss: 0.021121978759765625\n"
          ]
        },
        {
          "output_type": "stream",
          "name": "stderr",
          "text": [
            "Epoch 3/20:  25%|██▌       | 8/32 [00:00<00:02, 10.16batch/s, loss=0.024] "
          ]
        },
        {
          "output_type": "stream",
          "name": "stdout",
          "text": [
            "CRF Loss: 0.025089263916015625\n",
            "CRF Loss: 0.019756317138671875\n"
          ]
        },
        {
          "output_type": "stream",
          "name": "stderr",
          "text": [
            "Epoch 3/20:  31%|███▏      | 10/32 [00:00<00:02, 10.21batch/s, loss=0.0262]"
          ]
        },
        {
          "output_type": "stream",
          "name": "stdout",
          "text": [
            "CRF Loss: 0.0256195068359375\n"
          ]
        },
        {
          "output_type": "stream",
          "name": "stderr",
          "text": [
            "Epoch 3/20:  38%|███▊      | 12/32 [00:01<00:02,  9.91batch/s, loss=0.0262]"
          ]
        },
        {
          "output_type": "stream",
          "name": "stdout",
          "text": [
            "CRF Loss: 0.025943756103515625\n"
          ]
        },
        {
          "output_type": "stream",
          "name": "stderr",
          "text": [
            "\rEpoch 3/20:  38%|███▊      | 12/32 [00:01<00:02,  9.91batch/s, loss=0.0233]"
          ]
        },
        {
          "output_type": "stream",
          "name": "stdout",
          "text": [
            "CRF Loss: 0.015285491943359375\n",
            "CRF Loss: 0.027667999267578125\n"
          ]
        },
        {
          "output_type": "stream",
          "name": "stderr",
          "text": [
            "Epoch 3/20:  44%|████▍     | 14/32 [00:01<00:01, 10.05batch/s, loss=0.0254]"
          ]
        },
        {
          "output_type": "stream",
          "name": "stdout",
          "text": [
            "CRF Loss: 0.026386260986328125\n"
          ]
        },
        {
          "output_type": "stream",
          "name": "stderr",
          "text": [
            "Epoch 3/20:  50%|█████     | 16/32 [00:01<00:01, 10.09batch/s, loss=0.0261]"
          ]
        },
        {
          "output_type": "stream",
          "name": "stdout",
          "text": [
            "CRF Loss: 0.03459930419921875\n",
            "CRF Loss: 0.0272064208984375\n"
          ]
        },
        {
          "output_type": "stream",
          "name": "stderr",
          "text": [
            "\rEpoch 3/20:  50%|█████     | 16/32 [00:01<00:01, 10.09batch/s, loss=0.0246]"
          ]
        },
        {
          "output_type": "stream",
          "name": "stdout",
          "text": [
            "CRF Loss: 0.017185211181640625\n"
          ]
        },
        {
          "output_type": "stream",
          "name": "stderr",
          "text": [
            "Epoch 3/20:  56%|█████▋    | 18/32 [00:01<00:01, 10.19batch/s, loss=0.0239]"
          ]
        },
        {
          "output_type": "stream",
          "name": "stdout",
          "text": [
            "CRF Loss: 0.01720428466796875\n",
            "CRF Loss: 0.013607025146484375\n"
          ]
        },
        {
          "output_type": "stream",
          "name": "stderr",
          "text": [
            "Epoch 3/20:  62%|██████▎   | 20/32 [00:01<00:01, 10.25batch/s, loss=0.0246]"
          ]
        },
        {
          "output_type": "stream",
          "name": "stdout",
          "text": [
            "CRF Loss: 0.014339447021484375\n"
          ]
        },
        {
          "output_type": "stream",
          "name": "stderr",
          "text": [
            "Epoch 3/20:  69%|██████▉   | 22/32 [00:02<00:01,  9.95batch/s, loss=0.024]"
          ]
        },
        {
          "output_type": "stream",
          "name": "stdout",
          "text": [
            "CRF Loss: 0.02306365966796875\n"
          ]
        },
        {
          "output_type": "stream",
          "name": "stderr",
          "text": [
            "\rEpoch 3/20:  69%|██████▉   | 22/32 [00:02<00:01,  9.95batch/s, loss=0.0229]"
          ]
        },
        {
          "output_type": "stream",
          "name": "stdout",
          "text": [
            "CRF Loss: 0.023193359375\n"
          ]
        },
        {
          "output_type": "stream",
          "name": "stderr",
          "text": [
            "Epoch 3/20:  75%|███████▌  | 24/32 [00:02<00:00, 10.02batch/s, loss=0.024]"
          ]
        },
        {
          "output_type": "stream",
          "name": "stdout",
          "text": [
            "CRF Loss: 0.02359771728515625\n",
            "CRF Loss: 0.0228424072265625\n"
          ]
        },
        {
          "output_type": "stream",
          "name": "stderr",
          "text": [
            "\rEpoch 3/20:  75%|███████▌  | 24/32 [00:02<00:00, 10.02batch/s, loss=0.023]"
          ]
        },
        {
          "output_type": "stream",
          "name": "stdout",
          "text": [
            "CRF Loss: 0.017917633056640625\n"
          ]
        },
        {
          "output_type": "stream",
          "name": "stderr",
          "text": [
            "Epoch 3/20:  81%|████████▏ | 26/32 [00:02<00:00, 10.02batch/s, loss=0.0228]"
          ]
        },
        {
          "output_type": "stream",
          "name": "stdout",
          "text": [
            "CRF Loss: 0.02447509765625\n",
            "CRF Loss: 0.014888763427734375\n"
          ]
        },
        {
          "output_type": "stream",
          "name": "stderr",
          "text": [
            "Epoch 3/20:  91%|█████████ | 29/32 [00:02<00:00,  9.96batch/s, loss=0.0223]"
          ]
        },
        {
          "output_type": "stream",
          "name": "stdout",
          "text": [
            "CRF Loss: 0.01798248291015625\n",
            "CRF Loss: 0.018871307373046875\n",
            "CRF Loss: 0.0194549560546875\n"
          ]
        },
        {
          "output_type": "stream",
          "name": "stderr",
          "text": [
            "Epoch 3/20: 100%|██████████| 32/32 [00:03<00:00, 10.00batch/s, loss=0.0218]\n"
          ]
        },
        {
          "output_type": "stream",
          "name": "stdout",
          "text": [
            "CRF Loss: 0.0093231201171875\n",
            "cuda\n",
            "Epoch 3/20 - Total Loss: 0.6968\n"
          ]
        },
        {
          "output_type": "stream",
          "name": "stderr",
          "text": [
            "Epoch 4/20:   0%|          | 0/32 [00:00<?, ?batch/s, loss=0.0207]"
          ]
        },
        {
          "output_type": "stream",
          "name": "stdout",
          "text": [
            "CRF Loss: 0.02074432373046875\n",
            "CRF Loss: 0.026950836181640625\n"
          ]
        },
        {
          "output_type": "stream",
          "name": "stderr",
          "text": [
            "Epoch 4/20:   6%|▋         | 2/32 [00:00<00:02, 10.20batch/s, loss=0.0477]"
          ]
        },
        {
          "output_type": "stream",
          "name": "stdout",
          "text": [
            "CRF Loss: 0.01348114013671875\n"
          ]
        },
        {
          "output_type": "stream",
          "name": "stderr",
          "text": [
            "Epoch 4/20:  12%|█▎        | 4/32 [00:00<00:02, 10.16batch/s, loss=0.0282]"
          ]
        },
        {
          "output_type": "stream",
          "name": "stdout",
          "text": [
            "CRF Loss: 0.023326873779296875\n",
            "CRF Loss: 0.015077590942382812\n"
          ]
        },
        {
          "output_type": "stream",
          "name": "stderr",
          "text": [
            "\rEpoch 4/20:  12%|█▎        | 4/32 [00:00<00:02, 10.16batch/s, loss=0.0199]"
          ]
        },
        {
          "output_type": "stream",
          "name": "stdout",
          "text": [
            "CRF Loss: 0.01819610595703125\n"
          ]
        },
        {
          "output_type": "stream",
          "name": "stderr",
          "text": [
            "Epoch 4/20:  19%|█▉        | 6/32 [00:00<00:02, 10.24batch/s, loss=0.0185]"
          ]
        },
        {
          "output_type": "stream",
          "name": "stdout",
          "text": [
            "CRF Loss: 0.011810302734375\n",
            "CRF Loss: 0.014171600341796875\n"
          ]
        },
        {
          "output_type": "stream",
          "name": "stderr",
          "text": [
            "Epoch 4/20:  25%|██▌       | 8/32 [00:00<00:02, 10.25batch/s, loss=0.0205]"
          ]
        },
        {
          "output_type": "stream",
          "name": "stdout",
          "text": [
            "CRF Loss: 0.015689849853515625\n"
          ]
        },
        {
          "output_type": "stream",
          "name": "stderr",
          "text": [
            "Epoch 4/20:  31%|███▏      | 10/32 [00:00<00:02, 10.10batch/s, loss=0.0195]"
          ]
        },
        {
          "output_type": "stream",
          "name": "stdout",
          "text": [
            "CRF Loss: 0.016063690185546875\n"
          ]
        },
        {
          "output_type": "stream",
          "name": "stderr",
          "text": [
            "\rEpoch 4/20:  31%|███▏      | 10/32 [00:01<00:02, 10.10batch/s, loss=0.0179]"
          ]
        },
        {
          "output_type": "stream",
          "name": "stdout",
          "text": [
            "CRF Loss: 0.0213775634765625\n",
            "CRF Loss: 0.0142822265625\n"
          ]
        },
        {
          "output_type": "stream",
          "name": "stderr",
          "text": [
            "Epoch 4/20:  38%|███▊      | 12/32 [00:01<00:01, 10.01batch/s, loss=0.0192]"
          ]
        },
        {
          "output_type": "stream",
          "name": "stdout",
          "text": [
            "CRF Loss: 0.015392303466796875\n"
          ]
        },
        {
          "output_type": "stream",
          "name": "stderr",
          "text": [
            "Epoch 4/20:  44%|████▍     | 14/32 [00:01<00:01, 10.08batch/s, loss=0.0186]"
          ]
        },
        {
          "output_type": "stream",
          "name": "stdout",
          "text": [
            "CRF Loss: 0.01512908935546875\n",
            "CRF Loss: 0.0162506103515625\n"
          ]
        },
        {
          "output_type": "stream",
          "name": "stderr",
          "text": [
            "\rEpoch 4/20:  44%|████▍     | 14/32 [00:01<00:01, 10.08batch/s, loss=0.0172]"
          ]
        },
        {
          "output_type": "stream",
          "name": "stdout",
          "text": [
            "CRF Loss: 0.011188507080078125\n"
          ]
        },
        {
          "output_type": "stream",
          "name": "stderr",
          "text": [
            "Epoch 4/20:  50%|█████     | 16/32 [00:01<00:01, 10.11batch/s, loss=0.0166]"
          ]
        },
        {
          "output_type": "stream",
          "name": "stdout",
          "text": [
            "CRF Loss: 0.013660430908203125\n",
            "CRF Loss: 0.012445449829101562\n"
          ]
        },
        {
          "output_type": "stream",
          "name": "stderr",
          "text": [
            "Epoch 4/20:  56%|█████▋    | 18/32 [00:01<00:01, 10.24batch/s, loss=0.0174]"
          ]
        },
        {
          "output_type": "stream",
          "name": "stdout",
          "text": [
            "CRF Loss: 0.015918731689453125\n"
          ]
        },
        {
          "output_type": "stream",
          "name": "stderr",
          "text": [
            "Epoch 4/20:  62%|██████▎   | 20/32 [00:01<00:01, 10.11batch/s, loss=0.0171]"
          ]
        },
        {
          "output_type": "stream",
          "name": "stdout",
          "text": [
            "CRF Loss: 0.013957977294921875\n",
            "CRF Loss: 0.014003753662109375\n"
          ]
        },
        {
          "output_type": "stream",
          "name": "stderr",
          "text": [
            "\rEpoch 4/20:  62%|██████▎   | 20/32 [00:02<00:01, 10.11batch/s, loss=0.0161]"
          ]
        },
        {
          "output_type": "stream",
          "name": "stdout",
          "text": [
            "CRF Loss: 0.013843536376953125\n"
          ]
        },
        {
          "output_type": "stream",
          "name": "stderr",
          "text": [
            "Epoch 4/20:  69%|██████▉   | 22/32 [00:02<00:01,  8.59batch/s, loss=0.0168]"
          ]
        },
        {
          "output_type": "stream",
          "name": "stdout",
          "text": [
            "CRF Loss: 0.01848602294921875\n"
          ]
        },
        {
          "output_type": "stream",
          "name": "stderr",
          "text": [
            "Epoch 4/20:  72%|███████▏  | 23/32 [00:02<00:01,  8.33batch/s, loss=0.0161]"
          ]
        },
        {
          "output_type": "stream",
          "name": "stdout",
          "text": [
            "CRF Loss: 0.018383026123046875\n"
          ]
        },
        {
          "output_type": "stream",
          "name": "stderr",
          "text": [
            "Epoch 4/20:  75%|███████▌  | 24/32 [00:02<00:00,  8.20batch/s, loss=0.0162]"
          ]
        },
        {
          "output_type": "stream",
          "name": "stdout",
          "text": [
            "CRF Loss: 0.01569366455078125\n"
          ]
        },
        {
          "output_type": "stream",
          "name": "stderr",
          "text": [
            "Epoch 4/20:  78%|███████▊  | 25/32 [00:02<00:00,  8.06batch/s, loss=0.0162]"
          ]
        },
        {
          "output_type": "stream",
          "name": "stdout",
          "text": [
            "CRF Loss: 0.0159759521484375\n"
          ]
        },
        {
          "output_type": "stream",
          "name": "stderr",
          "text": [
            "Epoch 4/20:  81%|████████▏ | 26/32 [00:02<00:00,  7.90batch/s, loss=0.0162]"
          ]
        },
        {
          "output_type": "stream",
          "name": "stdout",
          "text": [
            "CRF Loss: 0.014583587646484375\n"
          ]
        },
        {
          "output_type": "stream",
          "name": "stderr",
          "text": [
            "Epoch 4/20:  84%|████████▍ | 27/32 [00:02<00:00,  7.70batch/s, loss=0.0162]"
          ]
        },
        {
          "output_type": "stream",
          "name": "stdout",
          "text": [
            "CRF Loss: 0.01256561279296875\n"
          ]
        },
        {
          "output_type": "stream",
          "name": "stderr",
          "text": [
            "Epoch 4/20:  88%|████████▊ | 28/32 [00:03<00:00,  7.74batch/s, loss=0.016]"
          ]
        },
        {
          "output_type": "stream",
          "name": "stdout",
          "text": [
            "CRF Loss: 0.012546539306640625\n"
          ]
        },
        {
          "output_type": "stream",
          "name": "stderr",
          "text": [
            "Epoch 4/20:  91%|█████████ | 29/32 [00:03<00:00,  7.71batch/s, loss=0.0159]"
          ]
        },
        {
          "output_type": "stream",
          "name": "stdout",
          "text": [
            "CRF Loss: 0.016099929809570312\n"
          ]
        },
        {
          "output_type": "stream",
          "name": "stderr",
          "text": [
            "Epoch 4/20:  94%|█████████▍| 30/32 [00:03<00:00,  7.65batch/s, loss=0.0159]"
          ]
        },
        {
          "output_type": "stream",
          "name": "stdout",
          "text": [
            "CRF Loss: 0.013147354125976562\n"
          ]
        },
        {
          "output_type": "stream",
          "name": "stderr",
          "text": [
            "Epoch 4/20:  97%|█████████▋| 31/32 [00:03<00:00,  7.18batch/s, loss=0.0158]"
          ]
        },
        {
          "output_type": "stream",
          "name": "stdout",
          "text": [
            "CRF Loss: 0.0226287841796875\n"
          ]
        },
        {
          "output_type": "stream",
          "name": "stderr",
          "text": [
            "Epoch 4/20: 100%|██████████| 32/32 [00:03<00:00,  8.80batch/s, loss=0.016]\n"
          ]
        },
        {
          "output_type": "stream",
          "name": "stdout",
          "text": [
            "cuda\n",
            "Epoch 4/20 - Total Loss: 0.5131\n"
          ]
        },
        {
          "output_type": "stream",
          "name": "stderr",
          "text": [
            "\rEpoch 5/20:   0%|          | 0/32 [00:00<?, ?batch/s]"
          ]
        },
        {
          "output_type": "stream",
          "name": "stdout",
          "text": [
            "CRF Loss: 0.013467788696289062\n"
          ]
        },
        {
          "output_type": "stream",
          "name": "stderr",
          "text": [
            "Epoch 5/20:   3%|▎         | 1/32 [00:00<00:05,  6.12batch/s, loss=0.0135]"
          ]
        },
        {
          "output_type": "stream",
          "name": "stdout",
          "text": [
            "CRF Loss: 0.01308441162109375\n"
          ]
        },
        {
          "output_type": "stream",
          "name": "stderr",
          "text": [
            "Epoch 5/20:   6%|▋         | 2/32 [00:00<00:05,  5.84batch/s, loss=0.0133]"
          ]
        },
        {
          "output_type": "stream",
          "name": "stdout",
          "text": [
            "CRF Loss: 0.010370254516601562\n"
          ]
        },
        {
          "output_type": "stream",
          "name": "stderr",
          "text": [
            "Epoch 5/20:   9%|▉         | 3/32 [00:00<00:04,  6.06batch/s, loss=0.0123]"
          ]
        },
        {
          "output_type": "stream",
          "name": "stdout",
          "text": [
            "CRF Loss: 0.007970809936523438\n"
          ]
        },
        {
          "output_type": "stream",
          "name": "stderr",
          "text": [
            "Epoch 5/20:  12%|█▎        | 4/32 [00:00<00:04,  6.85batch/s, loss=0.0123]"
          ]
        },
        {
          "output_type": "stream",
          "name": "stdout",
          "text": [
            "CRF Loss: 0.016414642333984375\n"
          ]
        },
        {
          "output_type": "stream",
          "name": "stderr",
          "text": [
            "Epoch 5/20:  19%|█▉        | 6/32 [00:00<00:03,  8.23batch/s, loss=0.0151]"
          ]
        },
        {
          "output_type": "stream",
          "name": "stdout",
          "text": [
            "CRF Loss: 0.01398468017578125\n",
            "CRF Loss: 0.01284027099609375\n"
          ]
        },
        {
          "output_type": "stream",
          "name": "stderr",
          "text": [
            "Epoch 5/20:  25%|██▌       | 8/32 [00:01<00:02,  8.41batch/s, loss=0.0125]"
          ]
        },
        {
          "output_type": "stream",
          "name": "stdout",
          "text": [
            "CRF Loss: 0.01088714599609375\n",
            "CRF Loss: 0.013525009155273438\n",
            "CRF Loss: 0.014020919799804688\n"
          ]
        },
        {
          "output_type": "stream",
          "name": "stderr",
          "text": [
            "Epoch 5/20:  38%|███▊      | 12/32 [00:01<00:02,  9.43batch/s, loss=0.0138]"
          ]
        },
        {
          "output_type": "stream",
          "name": "stdout",
          "text": [
            "CRF Loss: 0.0117645263671875\n",
            "CRF Loss: 0.01317596435546875\n",
            "CRF Loss: 0.010059356689453125\n"
          ]
        },
        {
          "output_type": "stream",
          "name": "stderr",
          "text": [
            "Epoch 5/20:  44%|████▍     | 14/32 [00:01<00:01,  9.47batch/s, loss=0.0121]"
          ]
        },
        {
          "output_type": "stream",
          "name": "stdout",
          "text": [
            "CRF Loss: 0.012248992919921875\n",
            "CRF Loss: 0.00782012939453125\n",
            "CRF Loss: 0.013355255126953125\n"
          ]
        },
        {
          "output_type": "stream",
          "name": "stderr",
          "text": [
            "Epoch 5/20:  56%|█████▋    | 18/32 [00:02<00:01,  9.95batch/s, loss=0.0134]"
          ]
        },
        {
          "output_type": "stream",
          "name": "stdout",
          "text": [
            "CRF Loss: 0.01505279541015625\n",
            "CRF Loss: 0.017812728881835938\n",
            "CRF Loss: 0.012845993041992188\n"
          ]
        },
        {
          "output_type": "stream",
          "name": "stderr",
          "text": [
            "Epoch 5/20:  62%|██████▎   | 20/32 [00:02<00:01,  9.91batch/s, loss=0.0129]"
          ]
        },
        {
          "output_type": "stream",
          "name": "stdout",
          "text": [
            "CRF Loss: 0.016786575317382812\n",
            "CRF Loss: 0.012889862060546875\n",
            "CRF Loss: 0.011915206909179688\n"
          ]
        },
        {
          "output_type": "stream",
          "name": "stderr",
          "text": [
            "Epoch 5/20:  75%|███████▌  | 24/32 [00:02<00:00,  9.94batch/s, loss=0.0133]"
          ]
        },
        {
          "output_type": "stream",
          "name": "stdout",
          "text": [
            "CRF Loss: 0.011354446411132812\n",
            "CRF Loss: 0.012790679931640625\n"
          ]
        },
        {
          "output_type": "stream",
          "name": "stderr",
          "text": [
            "Epoch 5/20:  78%|███████▊  | 25/32 [00:02<00:00,  9.93batch/s, loss=0.0126]"
          ]
        },
        {
          "output_type": "stream",
          "name": "stdout",
          "text": [
            "CRF Loss: 0.01139068603515625\n",
            "CRF Loss: 0.010015487670898438\n",
            "CRF Loss: 0.013416290283203125\n"
          ]
        },
        {
          "output_type": "stream",
          "name": "stderr",
          "text": [
            "Epoch 5/20:  91%|█████████ | 29/32 [00:03<00:00, 10.23batch/s, loss=0.0129]"
          ]
        },
        {
          "output_type": "stream",
          "name": "stdout",
          "text": [
            "CRF Loss: 0.00711822509765625\n",
            "CRF Loss: 0.012083053588867188\n",
            "CRF Loss: 0.010068893432617188\n"
          ]
        },
        {
          "output_type": "stream",
          "name": "stderr",
          "text": [
            "Epoch 5/20: 100%|██████████| 32/32 [00:03<00:00,  9.32batch/s, loss=0.0121]\n"
          ]
        },
        {
          "output_type": "stream",
          "name": "stdout",
          "text": [
            "CRF Loss: 0.011766433715820312\n",
            "CRF Loss: 0.00439453125\n",
            "cuda\n",
            "Epoch 5/20 - Total Loss: 0.3867\n"
          ]
        },
        {
          "output_type": "stream",
          "name": "stderr",
          "text": [
            "\rEpoch 6/20:   0%|          | 0/32 [00:00<?, ?batch/s]"
          ]
        },
        {
          "output_type": "stream",
          "name": "stdout",
          "text": [
            "CRF Loss: 0.010829925537109375\n"
          ]
        },
        {
          "output_type": "stream",
          "name": "stderr",
          "text": [
            "Epoch 6/20:   6%|▋         | 2/32 [00:00<00:03,  9.77batch/s, loss=0.0214]"
          ]
        },
        {
          "output_type": "stream",
          "name": "stdout",
          "text": [
            "CRF Loss: 0.010591506958007812\n"
          ]
        },
        {
          "output_type": "stream",
          "name": "stderr",
          "text": [
            "Epoch 6/20:   9%|▉         | 3/32 [00:00<00:02,  9.74batch/s, loss=0.0104]"
          ]
        },
        {
          "output_type": "stream",
          "name": "stdout",
          "text": [
            "CRF Loss: 0.009695053100585938\n"
          ]
        },
        {
          "output_type": "stream",
          "name": "stderr",
          "text": [
            "Epoch 6/20:  12%|█▎        | 4/32 [00:00<00:02,  9.80batch/s, loss=0.0116]"
          ]
        },
        {
          "output_type": "stream",
          "name": "stdout",
          "text": [
            "CRF Loss: 0.01512908935546875\n"
          ]
        },
        {
          "output_type": "stream",
          "name": "stderr",
          "text": [
            "\rEpoch 6/20:  12%|█▎        | 4/32 [00:00<00:02,  9.80batch/s, loss=0.0118]"
          ]
        },
        {
          "output_type": "stream",
          "name": "stdout",
          "text": [
            "CRF Loss: 0.01297760009765625\n",
            "CRF Loss: 0.012025833129882812\n"
          ]
        },
        {
          "output_type": "stream",
          "name": "stderr",
          "text": [
            "Epoch 6/20:  19%|█▉        | 6/32 [00:00<00:02, 10.04batch/s, loss=0.0142]"
          ]
        },
        {
          "output_type": "stream",
          "name": "stdout",
          "text": [
            "CRF Loss: 0.00746917724609375\n"
          ]
        },
        {
          "output_type": "stream",
          "name": "stderr",
          "text": [
            "Epoch 6/20:  25%|██▌       | 8/32 [00:00<00:02,  9.81batch/s, loss=0.0125]"
          ]
        },
        {
          "output_type": "stream",
          "name": "stdout",
          "text": [
            "CRF Loss: 0.008863449096679688\n"
          ]
        },
        {
          "output_type": "stream",
          "name": "stderr",
          "text": [
            "\rEpoch 6/20:  25%|██▌       | 8/32 [00:00<00:02,  9.81batch/s, loss=0.0103]"
          ]
        },
        {
          "output_type": "stream",
          "name": "stdout",
          "text": [
            "CRF Loss: 0.0052890777587890625\n"
          ]
        },
        {
          "output_type": "stream",
          "name": "stderr",
          "text": [
            "Epoch 6/20:  31%|███▏      | 10/32 [00:01<00:02,  9.95batch/s, loss=0.0117]"
          ]
        },
        {
          "output_type": "stream",
          "name": "stdout",
          "text": [
            "CRF Loss: 0.01271820068359375\n",
            "CRF Loss: 0.008687973022460938\n"
          ]
        },
        {
          "output_type": "stream",
          "name": "stderr",
          "text": [
            "\rEpoch 6/20:  31%|███▏      | 10/32 [00:01<00:02,  9.95batch/s, loss=0.0104]"
          ]
        },
        {
          "output_type": "stream",
          "name": "stdout",
          "text": [
            "CRF Loss: 0.00971221923828125\n"
          ]
        },
        {
          "output_type": "stream",
          "name": "stderr",
          "text": [
            "Epoch 6/20:  38%|███▊      | 12/32 [00:01<00:02,  9.85batch/s, loss=0.0103]"
          ]
        },
        {
          "output_type": "stream",
          "name": "stdout",
          "text": [
            "CRF Loss: 0.01023101806640625\n"
          ]
        },
        {
          "output_type": "stream",
          "name": "stderr",
          "text": [
            "Epoch 6/20:  44%|████▍     | 14/32 [00:01<00:01,  9.97batch/s, loss=0.011]"
          ]
        },
        {
          "output_type": "stream",
          "name": "stdout",
          "text": [
            "CRF Loss: 0.009267807006835938\n",
            "CRF Loss: 0.008737564086914062\n"
          ]
        },
        {
          "output_type": "stream",
          "name": "stderr",
          "text": [
            "\rEpoch 6/20:  44%|████▍     | 14/32 [00:01<00:01,  9.97batch/s, loss=0.0101]"
          ]
        },
        {
          "output_type": "stream",
          "name": "stdout",
          "text": [
            "CRF Loss: 0.009494781494140625\n"
          ]
        },
        {
          "output_type": "stream",
          "name": "stderr",
          "text": [
            "Epoch 6/20:  50%|█████     | 16/32 [00:01<00:01, 10.07batch/s, loss=0.0103]"
          ]
        },
        {
          "output_type": "stream",
          "name": "stdout",
          "text": [
            "CRF Loss: 0.012554168701171875\n",
            "CRF Loss: 0.008544921875\n"
          ]
        },
        {
          "output_type": "stream",
          "name": "stderr",
          "text": [
            "Epoch 6/20:  62%|██████▎   | 20/32 [00:02<00:01, 10.10batch/s, loss=0.0108]"
          ]
        },
        {
          "output_type": "stream",
          "name": "stdout",
          "text": [
            "CRF Loss: 0.010532379150390625\n",
            "CRF Loss: 0.011758804321289062\n",
            "CRF Loss: 0.012422561645507812\n"
          ]
        },
        {
          "output_type": "stream",
          "name": "stderr",
          "text": [
            "Epoch 6/20:  69%|██████▉   | 22/32 [00:02<00:00, 10.07batch/s, loss=0.0102]"
          ]
        },
        {
          "output_type": "stream",
          "name": "stdout",
          "text": [
            "CRF Loss: 0.007925033569335938\n",
            "CRF Loss: 0.009210586547851562\n"
          ]
        },
        {
          "output_type": "stream",
          "name": "stderr",
          "text": [
            "Epoch 6/20:  75%|███████▌  | 24/32 [00:02<00:00,  9.96batch/s, loss=0.0101]"
          ]
        },
        {
          "output_type": "stream",
          "name": "stdout",
          "text": [
            "CRF Loss: 0.0113372802734375\n",
            "CRF Loss: 0.0074787139892578125\n",
            "CRF Loss: 0.009937286376953125\n"
          ]
        },
        {
          "output_type": "stream",
          "name": "stderr",
          "text": [
            "Epoch 6/20:  88%|████████▊ | 28/32 [00:02<00:00, 10.07batch/s, loss=0.0104]"
          ]
        },
        {
          "output_type": "stream",
          "name": "stdout",
          "text": [
            "CRF Loss: 0.007541656494140625\n",
            "CRF Loss: 0.011083602905273438\n",
            "CRF Loss: 0.013322830200195312\n"
          ]
        },
        {
          "output_type": "stream",
          "name": "stderr",
          "text": [
            "Epoch 6/20:  94%|█████████▍| 30/32 [00:03<00:00, 10.11batch/s, loss=0.0102]"
          ]
        },
        {
          "output_type": "stream",
          "name": "stdout",
          "text": [
            "CRF Loss: 0.0095062255859375\n",
            "CRF Loss: 0.01161956787109375\n",
            "CRF Loss: 0.0029449462890625\n"
          ]
        },
        {
          "output_type": "stream",
          "name": "stderr",
          "text": [
            "Epoch 6/20: 100%|██████████| 32/32 [00:03<00:00, 10.06batch/s, loss=0.0103]\n"
          ]
        },
        {
          "output_type": "stream",
          "name": "stdout",
          "text": [
            "cuda\n",
            "Epoch 6/20 - Total Loss: 0.3194\n"
          ]
        },
        {
          "output_type": "stream",
          "name": "stderr",
          "text": [
            "Epoch 7/20:   3%|▎         | 1/32 [00:00<00:03,  9.26batch/s, loss=0.00808]"
          ]
        },
        {
          "output_type": "stream",
          "name": "stdout",
          "text": [
            "CRF Loss: 0.008077621459960938\n",
            "CRF Loss: 0.008737564086914062\n"
          ]
        },
        {
          "output_type": "stream",
          "name": "stderr",
          "text": [
            "Epoch 7/20:  12%|█▎        | 4/32 [00:00<00:02, 10.12batch/s, loss=0.012]"
          ]
        },
        {
          "output_type": "stream",
          "name": "stdout",
          "text": [
            "CRF Loss: 0.011793136596679688\n",
            "CRF Loss: 0.007427215576171875\n",
            "CRF Loss: 0.00829315185546875\n"
          ]
        },
        {
          "output_type": "stream",
          "name": "stderr",
          "text": [
            "Epoch 7/20:  19%|█▉        | 6/32 [00:00<00:02,  9.90batch/s, loss=0.00859]"
          ]
        },
        {
          "output_type": "stream",
          "name": "stdout",
          "text": [
            "CRF Loss: 0.008478164672851562\n",
            "CRF Loss: 0.007312774658203125\n"
          ]
        },
        {
          "output_type": "stream",
          "name": "stderr",
          "text": [
            "Epoch 7/20:  25%|██▌       | 8/32 [00:00<00:02, 10.02batch/s, loss=0.00871]"
          ]
        },
        {
          "output_type": "stream",
          "name": "stdout",
          "text": [
            "CRF Loss: 0.007823944091796875\n",
            "CRF Loss: 0.010408401489257812\n",
            "CRF Loss: 0.00606536865234375\n"
          ]
        },
        {
          "output_type": "stream",
          "name": "stderr",
          "text": [
            "Epoch 7/20:  38%|███▊      | 12/32 [00:01<00:02,  9.93batch/s, loss=0.0091]"
          ]
        },
        {
          "output_type": "stream",
          "name": "stdout",
          "text": [
            "CRF Loss: 0.009004592895507812\n",
            "CRF Loss: 0.0067043304443359375\n"
          ]
        },
        {
          "output_type": "stream",
          "name": "stderr",
          "text": [
            "Epoch 7/20:  44%|████▍     | 14/32 [00:01<00:01, 10.03batch/s, loss=0.00899]"
          ]
        },
        {
          "output_type": "stream",
          "name": "stdout",
          "text": [
            "CRF Loss: 0.0075283050537109375\n",
            "CRF Loss: 0.009246826171875\n",
            "CRF Loss: 0.010206222534179688\n"
          ]
        },
        {
          "output_type": "stream",
          "name": "stderr",
          "text": [
            "Epoch 7/20:  50%|█████     | 16/32 [00:01<00:01,  9.94batch/s, loss=0.00827]"
          ]
        },
        {
          "output_type": "stream",
          "name": "stdout",
          "text": [
            "CRF Loss: 0.0062923431396484375\n",
            "CRF Loss: 0.0071849822998046875\n"
          ]
        },
        {
          "output_type": "stream",
          "name": "stderr",
          "text": [
            "Epoch 7/20:  56%|█████▋    | 18/32 [00:01<00:01, 10.06batch/s, loss=0.00824]"
          ]
        },
        {
          "output_type": "stream",
          "name": "stdout",
          "text": [
            "CRF Loss: 0.007076263427734375\n",
            "CRF Loss: 0.008855819702148438\n",
            "CRF Loss: 0.010580062866210938\n"
          ]
        },
        {
          "output_type": "stream",
          "name": "stderr",
          "text": [
            "Epoch 7/20:  69%|██████▉   | 22/32 [00:02<00:01,  9.98batch/s, loss=0.00879]"
          ]
        },
        {
          "output_type": "stream",
          "name": "stdout",
          "text": [
            "CRF Loss: 0.007785797119140625\n",
            "CRF Loss: 0.009611129760742188\n"
          ]
        },
        {
          "output_type": "stream",
          "name": "stderr",
          "text": [
            "Epoch 7/20:  75%|███████▌  | 24/32 [00:02<00:00, 10.08batch/s, loss=0.00884]"
          ]
        },
        {
          "output_type": "stream",
          "name": "stdout",
          "text": [
            "CRF Loss: 0.010896682739257812\n",
            "CRF Loss: 0.00797271728515625\n",
            "CRF Loss: 0.0063228607177734375\n"
          ]
        },
        {
          "output_type": "stream",
          "name": "stderr",
          "text": [
            "Epoch 7/20:  81%|████████▏ | 26/32 [00:02<00:00,  9.92batch/s, loss=0.00834]"
          ]
        },
        {
          "output_type": "stream",
          "name": "stdout",
          "text": [
            "CRF Loss: 0.008378982543945312\n",
            "CRF Loss: 0.00710296630859375\n"
          ]
        },
        {
          "output_type": "stream",
          "name": "stderr",
          "text": [
            "Epoch 7/20:  88%|████████▊ | 28/32 [00:02<00:00, 10.06batch/s, loss=0.00839]"
          ]
        },
        {
          "output_type": "stream",
          "name": "stdout",
          "text": [
            "CRF Loss: 0.008028030395507812\n",
            "CRF Loss: 0.009984970092773438\n",
            "CRF Loss: 0.00853729248046875\n"
          ]
        },
        {
          "output_type": "stream",
          "name": "stderr",
          "text": [
            "Epoch 7/20: 100%|██████████| 32/32 [00:03<00:00, 10.04batch/s, loss=0.0086]\n"
          ]
        },
        {
          "output_type": "stream",
          "name": "stdout",
          "text": [
            "CRF Loss: 0.008783340454101562\n",
            "CRF Loss: 0.00608062744140625\n",
            "cuda\n",
            "Epoch 7/20 - Total Loss: 0.2666\n"
          ]
        },
        {
          "output_type": "stream",
          "name": "stderr",
          "text": [
            "\rEpoch 8/20:   0%|          | 0/32 [00:00<?, ?batch/s]"
          ]
        },
        {
          "output_type": "stream",
          "name": "stdout",
          "text": [
            "CRF Loss: 0.0071430206298828125\n"
          ]
        },
        {
          "output_type": "stream",
          "name": "stderr",
          "text": [
            "Epoch 8/20:   3%|▎         | 1/32 [00:00<00:03,  9.68batch/s, loss=0.00774]"
          ]
        },
        {
          "output_type": "stream",
          "name": "stdout",
          "text": [
            "CRF Loss: 0.008331298828125\n"
          ]
        },
        {
          "output_type": "stream",
          "name": "stderr",
          "text": [
            "Epoch 8/20:   9%|▉         | 3/32 [00:00<00:02,  9.94batch/s, loss=0.012]"
          ]
        },
        {
          "output_type": "stream",
          "name": "stdout",
          "text": [
            "CRF Loss: 0.008592605590820312\n",
            "CRF Loss: 0.0070629119873046875\n"
          ]
        },
        {
          "output_type": "stream",
          "name": "stderr",
          "text": [
            "Epoch 8/20:  16%|█▌        | 5/32 [00:00<00:02,  9.63batch/s, loss=0.00794]"
          ]
        },
        {
          "output_type": "stream",
          "name": "stdout",
          "text": [
            "CRF Loss: 0.008600234985351562\n",
            "CRF Loss: 0.007900238037109375\n",
            "CRF Loss: 0.00838470458984375\n"
          ]
        },
        {
          "output_type": "stream",
          "name": "stderr",
          "text": [
            "Epoch 8/20:  25%|██▌       | 8/32 [00:00<00:02,  8.62batch/s, loss=0.00794]"
          ]
        },
        {
          "output_type": "stream",
          "name": "stdout",
          "text": [
            "CRF Loss: 0.007503509521484375\n",
            "CRF Loss: 0.00891876220703125\n"
          ]
        },
        {
          "output_type": "stream",
          "name": "stderr",
          "text": [
            "Epoch 8/20:  31%|███▏      | 10/32 [00:01<00:02,  7.63batch/s, loss=0.00787]"
          ]
        },
        {
          "output_type": "stream",
          "name": "stdout",
          "text": [
            "CRF Loss: 0.006256103515625\n",
            "CRF Loss: 0.0074939727783203125\n"
          ]
        },
        {
          "output_type": "stream",
          "name": "stderr",
          "text": [
            "Epoch 8/20:  38%|███▊      | 12/32 [00:01<00:02,  7.55batch/s, loss=0.00771]"
          ]
        },
        {
          "output_type": "stream",
          "name": "stdout",
          "text": [
            "CRF Loss: 0.006389617919921875\n",
            "CRF Loss: 0.005916595458984375\n"
          ]
        },
        {
          "output_type": "stream",
          "name": "stderr",
          "text": [
            "Epoch 8/20:  44%|████▍     | 14/32 [00:01<00:02,  7.62batch/s, loss=0.00756]"
          ]
        },
        {
          "output_type": "stream",
          "name": "stdout",
          "text": [
            "CRF Loss: 0.00740814208984375\n",
            "CRF Loss: 0.007129669189453125\n"
          ]
        },
        {
          "output_type": "stream",
          "name": "stderr",
          "text": [
            "Epoch 8/20:  50%|█████     | 16/32 [00:01<00:02,  7.78batch/s, loss=0.00747]"
          ]
        },
        {
          "output_type": "stream",
          "name": "stdout",
          "text": [
            "CRF Loss: 0.0064792633056640625\n",
            "CRF Loss: 0.008083343505859375\n"
          ]
        },
        {
          "output_type": "stream",
          "name": "stderr",
          "text": [
            "Epoch 8/20:  56%|█████▋    | 18/32 [00:02<00:01,  7.12batch/s, loss=0.00749]"
          ]
        },
        {
          "output_type": "stream",
          "name": "stdout",
          "text": [
            "CRF Loss: 0.0072956085205078125\n",
            "CRF Loss: 0.00707244873046875\n"
          ]
        },
        {
          "output_type": "stream",
          "name": "stderr",
          "text": [
            "Epoch 8/20:  62%|██████▎   | 20/32 [00:02<00:01,  6.79batch/s, loss=0.00759]"
          ]
        },
        {
          "output_type": "stream",
          "name": "stdout",
          "text": [
            "CRF Loss: 0.009809494018554688\n",
            "CRF Loss: 0.0056705474853515625\n"
          ]
        },
        {
          "output_type": "stream",
          "name": "stderr",
          "text": [
            "Epoch 8/20:  69%|██████▉   | 22/32 [00:02<00:01,  6.53batch/s, loss=0.00757]"
          ]
        },
        {
          "output_type": "stream",
          "name": "stdout",
          "text": [
            "CRF Loss: 0.00908660888671875\n",
            "CRF Loss: 0.0062618255615234375\n"
          ]
        },
        {
          "output_type": "stream",
          "name": "stderr",
          "text": [
            "Epoch 8/20:  78%|███████▊  | 25/32 [00:03<00:00,  8.21batch/s, loss=0.00752]"
          ]
        },
        {
          "output_type": "stream",
          "name": "stdout",
          "text": [
            "CRF Loss: 0.009128570556640625\n",
            "CRF Loss: 0.0060405731201171875\n"
          ]
        },
        {
          "output_type": "stream",
          "name": "stderr",
          "text": [
            "Epoch 8/20:  84%|████████▍ | 27/32 [00:03<00:00,  8.86batch/s, loss=0.00747]"
          ]
        },
        {
          "output_type": "stream",
          "name": "stdout",
          "text": [
            "CRF Loss: 0.00682830810546875\n",
            "CRF Loss: 0.0068817138671875\n"
          ]
        },
        {
          "output_type": "stream",
          "name": "stderr",
          "text": [
            "Epoch 8/20:  88%|████████▊ | 28/32 [00:03<00:00,  9.10batch/s, loss=0.00742]"
          ]
        },
        {
          "output_type": "stream",
          "name": "stdout",
          "text": [
            "CRF Loss: 0.008844375610351562\n",
            "CRF Loss: 0.0047931671142578125\n",
            "CRF Loss: 0.004306793212890625\n"
          ]
        },
        {
          "output_type": "stream",
          "name": "stderr",
          "text": [
            "Epoch 8/20: 100%|██████████| 32/32 [00:03<00:00,  8.20batch/s, loss=0.00725]\n"
          ]
        },
        {
          "output_type": "stream",
          "name": "stdout",
          "text": [
            "CRF Loss: 0.0070209503173828125\n",
            "CRF Loss: 0.00536346435546875\n",
            "cuda\n",
            "Epoch 8/20 - Total Loss: 0.2320\n"
          ]
        },
        {
          "output_type": "stream",
          "name": "stderr",
          "text": [
            "\rEpoch 9/20:   0%|          | 0/32 [00:00<?, ?batch/s]"
          ]
        },
        {
          "output_type": "stream",
          "name": "stdout",
          "text": [
            "CRF Loss: 0.0067462921142578125\n"
          ]
        },
        {
          "output_type": "stream",
          "name": "stderr",
          "text": [
            "Epoch 9/20:   6%|▋         | 2/32 [00:00<00:03,  9.50batch/s, loss=0.00644]"
          ]
        },
        {
          "output_type": "stream",
          "name": "stdout",
          "text": [
            "CRF Loss: 0.006130218505859375\n"
          ]
        },
        {
          "output_type": "stream",
          "name": "stderr",
          "text": [
            "Epoch 9/20:   9%|▉         | 3/32 [00:00<00:02,  9.71batch/s, loss=0.00657]"
          ]
        },
        {
          "output_type": "stream",
          "name": "stdout",
          "text": [
            "CRF Loss: 0.0068359375\n"
          ]
        },
        {
          "output_type": "stream",
          "name": "stderr",
          "text": [
            "\rEpoch 9/20:   9%|▉         | 3/32 [00:00<00:02,  9.71batch/s, loss=0.00647]"
          ]
        },
        {
          "output_type": "stream",
          "name": "stdout",
          "text": [
            "CRF Loss: 0.0061779022216796875\n",
            "CRF Loss: 0.007869720458984375\n"
          ]
        },
        {
          "output_type": "stream",
          "name": "stderr",
          "text": [
            "Epoch 9/20:  22%|██▏       | 7/32 [00:00<00:02,  9.80batch/s, loss=0.00778]"
          ]
        },
        {
          "output_type": "stream",
          "name": "stdout",
          "text": [
            "CRF Loss: 0.006145477294921875\n",
            "CRF Loss: 0.0067882537841796875\n",
            "CRF Loss: 0.0044727325439453125\n"
          ]
        },
        {
          "output_type": "stream",
          "name": "stderr",
          "text": [
            "Epoch 9/20:  28%|██▊       | 9/32 [00:01<00:02,  9.92batch/s, loss=0.0064] "
          ]
        },
        {
          "output_type": "stream",
          "name": "stdout",
          "text": [
            "CRF Loss: 0.00440216064453125\n",
            "CRF Loss: 0.008440017700195312\n",
            "CRF Loss: 0.00548553466796875\n"
          ]
        },
        {
          "output_type": "stream",
          "name": "stderr",
          "text": [
            "Epoch 9/20:  41%|████      | 13/32 [00:01<00:01,  9.90batch/s, loss=0.00694]"
          ]
        },
        {
          "output_type": "stream",
          "name": "stdout",
          "text": [
            "CRF Loss: 0.0070781707763671875\n",
            "CRF Loss: 0.0066738128662109375\n"
          ]
        },
        {
          "output_type": "stream",
          "name": "stderr",
          "text": [
            "Epoch 9/20:  47%|████▋     | 15/32 [00:01<00:01,  9.91batch/s, loss=0.00684]"
          ]
        },
        {
          "output_type": "stream",
          "name": "stdout",
          "text": [
            "CRF Loss: 0.00516510009765625\n",
            "CRF Loss: 0.007305145263671875\n",
            "CRF Loss: 0.0042705535888671875\n"
          ]
        },
        {
          "output_type": "stream",
          "name": "stderr",
          "text": [
            "Epoch 9/20:  56%|█████▋    | 18/32 [00:01<00:01, 10.08batch/s, loss=0.00666]"
          ]
        },
        {
          "output_type": "stream",
          "name": "stdout",
          "text": [
            "CRF Loss: 0.005893707275390625\n",
            "CRF Loss: 0.007404327392578125\n",
            "CRF Loss: 0.0056705474853515625\n"
          ]
        },
        {
          "output_type": "stream",
          "name": "stderr",
          "text": [
            "Epoch 9/20:  62%|██████▎   | 20/32 [00:02<00:01, 10.17batch/s, loss=0.00625]"
          ]
        },
        {
          "output_type": "stream",
          "name": "stdout",
          "text": [
            "CRF Loss: 0.006771087646484375\n",
            "CRF Loss: 0.0056133270263671875\n",
            "CRF Loss: 0.00817108154296875\n"
          ]
        },
        {
          "output_type": "stream",
          "name": "stderr",
          "text": [
            "Epoch 9/20:  75%|███████▌  | 24/32 [00:02<00:00, 10.08batch/s, loss=0.0066]"
          ]
        },
        {
          "output_type": "stream",
          "name": "stdout",
          "text": [
            "CRF Loss: 0.0059719085693359375\n",
            "CRF Loss: 0.0062618255615234375\n",
            "CRF Loss: 0.007541656494140625\n"
          ]
        },
        {
          "output_type": "stream",
          "name": "stderr",
          "text": [
            "Epoch 9/20:  81%|████████▏ | 26/32 [00:02<00:00,  9.96batch/s, loss=0.00627]"
          ]
        },
        {
          "output_type": "stream",
          "name": "stdout",
          "text": [
            "CRF Loss: 0.0037384033203125\n",
            "CRF Loss: 0.0062408447265625\n",
            "CRF Loss: 0.005985260009765625\n"
          ]
        },
        {
          "output_type": "stream",
          "name": "stderr",
          "text": [
            "Epoch 9/20:  94%|█████████▍| 30/32 [00:03<00:00, 10.14batch/s, loss=0.00648]"
          ]
        },
        {
          "output_type": "stream",
          "name": "stdout",
          "text": [
            "CRF Loss: 0.0070858001708984375\n",
            "CRF Loss: 0.00553131103515625\n",
            "CRF Loss: 0.007663726806640625\n"
          ]
        },
        {
          "output_type": "stream",
          "name": "stderr",
          "text": [
            "Epoch 9/20: 100%|██████████| 32/32 [00:03<00:00, 10.03batch/s, loss=0.0066]\n"
          ]
        },
        {
          "output_type": "stream",
          "name": "stdout",
          "text": [
            "CRF Loss: 0.0089569091796875\n",
            "cuda\n",
            "Epoch 9/20 - Total Loss: 0.2045\n"
          ]
        },
        {
          "output_type": "stream",
          "name": "stderr",
          "text": [
            "Epoch 10/20:   3%|▎         | 1/32 [00:00<00:03,  9.02batch/s, loss=0.00596]"
          ]
        },
        {
          "output_type": "stream",
          "name": "stdout",
          "text": [
            "CRF Loss: 0.0059566497802734375\n",
            "CRF Loss: 0.00567626953125\n"
          ]
        },
        {
          "output_type": "stream",
          "name": "stderr",
          "text": [
            "Epoch 10/20:   9%|▉         | 3/32 [00:00<00:03,  9.49batch/s, loss=0.00625]"
          ]
        },
        {
          "output_type": "stream",
          "name": "stdout",
          "text": [
            "CRF Loss: 0.0065402984619140625\n",
            "CRF Loss: 0.0068302154541015625\n"
          ]
        },
        {
          "output_type": "stream",
          "name": "stderr",
          "text": [
            "Epoch 10/20:  16%|█▌        | 5/32 [00:00<00:02,  9.88batch/s, loss=0.00616]"
          ]
        },
        {
          "output_type": "stream",
          "name": "stdout",
          "text": [
            "CRF Loss: 0.0046291351318359375\n",
            "CRF Loss: 0.0073337554931640625\n",
            "CRF Loss: 0.0055389404296875\n"
          ]
        },
        {
          "output_type": "stream",
          "name": "stderr",
          "text": [
            "Epoch 10/20:  28%|██▊       | 9/32 [00:00<00:02, 10.12batch/s, loss=0.00657]"
          ]
        },
        {
          "output_type": "stream",
          "name": "stdout",
          "text": [
            "CRF Loss: 0.0041046142578125\n",
            "CRF Loss: 0.0059814453125\n",
            "CRF Loss: 0.0045261383056640625\n"
          ]
        },
        {
          "output_type": "stream",
          "name": "stderr",
          "text": [
            "Epoch 10/20:  34%|███▍      | 11/32 [00:01<00:02,  9.92batch/s, loss=0.00552]"
          ]
        },
        {
          "output_type": "stream",
          "name": "stdout",
          "text": [
            "CRF Loss: 0.0052547454833984375\n",
            "CRF Loss: 0.003910064697265625\n"
          ]
        },
        {
          "output_type": "stream",
          "name": "stderr",
          "text": [
            "Epoch 10/20:  41%|████      | 13/32 [00:01<00:01,  9.78batch/s, loss=0.00558]"
          ]
        },
        {
          "output_type": "stream",
          "name": "stdout",
          "text": [
            "CRF Loss: 0.00566864013671875\n",
            "CRF Loss: 0.00614166259765625\n"
          ]
        },
        {
          "output_type": "stream",
          "name": "stderr",
          "text": [
            "Epoch 10/20:  47%|████▋     | 15/32 [00:01<00:01,  9.93batch/s, loss=0.00556]"
          ]
        },
        {
          "output_type": "stream",
          "name": "stdout",
          "text": [
            "CRF Loss: 0.0060710906982421875\n",
            "CRF Loss: 0.0048274993896484375\n",
            "CRF Loss: 0.004856109619140625\n"
          ]
        },
        {
          "output_type": "stream",
          "name": "stderr",
          "text": [
            "Epoch 10/20:  59%|█████▉    | 19/32 [00:01<00:01, 10.07batch/s, loss=0.0057]"
          ]
        },
        {
          "output_type": "stream",
          "name": "stdout",
          "text": [
            "CRF Loss: 0.0046100616455078125\n",
            "CRF Loss: 0.0041141510009765625\n",
            "CRF Loss: 0.004840850830078125\n"
          ]
        },
        {
          "output_type": "stream",
          "name": "stderr",
          "text": [
            "Epoch 10/20:  66%|██████▌   | 21/32 [00:02<00:01,  9.91batch/s, loss=0.00535]"
          ]
        },
        {
          "output_type": "stream",
          "name": "stdout",
          "text": [
            "CRF Loss: 0.0053653717041015625\n",
            "CRF Loss: 0.00484466552734375\n"
          ]
        },
        {
          "output_type": "stream",
          "name": "stderr",
          "text": [
            "Epoch 10/20:  72%|███████▏  | 23/32 [00:02<00:00,  9.85batch/s, loss=0.00542]"
          ]
        },
        {
          "output_type": "stream",
          "name": "stdout",
          "text": [
            "CRF Loss: 0.0040187835693359375\n",
            "CRF Loss: 0.008350372314453125\n"
          ]
        },
        {
          "output_type": "stream",
          "name": "stderr",
          "text": [
            "Epoch 10/20:  78%|███████▊  | 25/32 [00:02<00:00, 10.01batch/s, loss=0.00544]"
          ]
        },
        {
          "output_type": "stream",
          "name": "stdout",
          "text": [
            "CRF Loss: 0.005924224853515625\n",
            "CRF Loss: 0.00543212890625\n",
            "CRF Loss: 0.0073986053466796875\n"
          ]
        },
        {
          "output_type": "stream",
          "name": "stderr",
          "text": [
            "Epoch 10/20:  91%|█████████ | 29/32 [00:02<00:00, 10.15batch/s, loss=0.00564]"
          ]
        },
        {
          "output_type": "stream",
          "name": "stdout",
          "text": [
            "CRF Loss: 0.004772186279296875\n",
            "CRF Loss: 0.004398345947265625\n",
            "CRF Loss: 0.0068187713623046875\n"
          ]
        },
        {
          "output_type": "stream",
          "name": "stderr",
          "text": [
            "Epoch 10/20: 100%|██████████| 32/32 [00:03<00:00, 10.01batch/s, loss=0.00547]\n"
          ]
        },
        {
          "output_type": "stream",
          "name": "stdout",
          "text": [
            "CRF Loss: 0.0046977996826171875\n",
            "CRF Loss: 0.00563812255859375\n",
            "cuda\n",
            "Epoch 10/20 - Total Loss: 0.1751\n"
          ]
        },
        {
          "output_type": "stream",
          "name": "stderr",
          "text": [
            "Epoch 11/20:   3%|▎         | 1/32 [00:00<00:03,  8.78batch/s, loss=0.00518]"
          ]
        },
        {
          "output_type": "stream",
          "name": "stdout",
          "text": [
            "CRF Loss: 0.00550079345703125\n",
            "CRF Loss: 0.0048580169677734375\n"
          ]
        },
        {
          "output_type": "stream",
          "name": "stderr",
          "text": [
            "Epoch 11/20:   9%|▉         | 3/32 [00:00<00:02,  9.69batch/s, loss=0.00495]"
          ]
        },
        {
          "output_type": "stream",
          "name": "stdout",
          "text": [
            "CRF Loss: 0.0058460235595703125\n",
            "CRF Loss: 0.0035762786865234375\n",
            "CRF Loss: 0.003620147705078125\n"
          ]
        },
        {
          "output_type": "stream",
          "name": "stderr",
          "text": [
            "Epoch 11/20:  22%|██▏       | 7/32 [00:00<00:02, 10.12batch/s, loss=0.00554]"
          ]
        },
        {
          "output_type": "stream",
          "name": "stdout",
          "text": [
            "CRF Loss: 0.0053195953369140625\n",
            "CRF Loss: 0.0045108795166015625\n",
            "CRF Loss: 0.005512237548828125\n"
          ]
        },
        {
          "output_type": "stream",
          "name": "stderr",
          "text": [
            "Epoch 11/20:  28%|██▊       | 9/32 [00:01<00:02, 10.14batch/s, loss=0.00468]"
          ]
        },
        {
          "output_type": "stream",
          "name": "stdout",
          "text": [
            "CRF Loss: 0.0040874481201171875\n",
            "CRF Loss: 0.0039424896240234375\n",
            "CRF Loss: 0.0070095062255859375\n"
          ]
        },
        {
          "output_type": "stream",
          "name": "stderr",
          "text": [
            "Epoch 11/20:  41%|████      | 13/32 [00:01<00:01, 10.05batch/s, loss=0.00524]"
          ]
        },
        {
          "output_type": "stream",
          "name": "stdout",
          "text": [
            "CRF Loss: 0.00495147705078125\n",
            "CRF Loss: 0.0041294097900390625\n",
            "CRF Loss: 0.004657745361328125\n"
          ]
        },
        {
          "output_type": "stream",
          "name": "stderr",
          "text": [
            "Epoch 11/20:  47%|████▋     | 15/32 [00:01<00:01, 10.14batch/s, loss=0.00482]"
          ]
        },
        {
          "output_type": "stream",
          "name": "stdout",
          "text": [
            "CRF Loss: 0.0033168792724609375\n",
            "CRF Loss: 0.006214141845703125\n",
            "CRF Loss: 0.006206512451171875\n"
          ]
        },
        {
          "output_type": "stream",
          "name": "stderr",
          "text": [
            "Epoch 11/20:  59%|█████▉    | 19/32 [00:01<00:01, 10.19batch/s, loss=0.00529]"
          ]
        },
        {
          "output_type": "stream",
          "name": "stdout",
          "text": [
            "CRF Loss: 0.0061702728271484375\n",
            "CRF Loss: 0.0057811737060546875\n",
            "CRF Loss: 0.0051670074462890625\n"
          ]
        },
        {
          "output_type": "stream",
          "name": "stderr",
          "text": [
            "Epoch 11/20:  66%|██████▌   | 21/32 [00:02<00:01,  9.79batch/s, loss=0.00499]"
          ]
        },
        {
          "output_type": "stream",
          "name": "stdout",
          "text": [
            "CRF Loss: 0.005001068115234375\n",
            "CRF Loss: 0.0044841766357421875\n"
          ]
        },
        {
          "output_type": "stream",
          "name": "stderr",
          "text": [
            "Epoch 11/20:  72%|███████▏  | 23/32 [00:02<00:00,  9.92batch/s, loss=0.00492]"
          ]
        },
        {
          "output_type": "stream",
          "name": "stdout",
          "text": [
            "CRF Loss: 0.0040493011474609375\n",
            "CRF Loss: 0.004131317138671875\n",
            "CRF Loss: 0.004109382629394531\n"
          ]
        },
        {
          "output_type": "stream",
          "name": "stderr",
          "text": [
            "Epoch 11/20:  78%|███████▊  | 25/32 [00:02<00:00, 10.02batch/s, loss=0.00485]"
          ]
        },
        {
          "output_type": "stream",
          "name": "stdout",
          "text": [
            "CRF Loss: 0.00402069091796875\n",
            "CRF Loss: 0.0059661865234375\n"
          ]
        },
        {
          "output_type": "stream",
          "name": "stderr",
          "text": [
            "Epoch 11/20:  88%|████████▊ | 28/32 [00:02<00:00,  8.58batch/s, loss=0.00487]"
          ]
        },
        {
          "output_type": "stream",
          "name": "stdout",
          "text": [
            "CRF Loss: 0.0042858123779296875\n",
            "CRF Loss: 0.00489044189453125\n"
          ]
        },
        {
          "output_type": "stream",
          "name": "stderr",
          "text": [
            "Epoch 11/20:  94%|█████████▍| 30/32 [00:03<00:00,  7.73batch/s, loss=0.00486]"
          ]
        },
        {
          "output_type": "stream",
          "name": "stdout",
          "text": [
            "CRF Loss: 0.004608154296875\n",
            "CRF Loss: 0.0046062469482421875\n"
          ]
        },
        {
          "output_type": "stream",
          "name": "stderr",
          "text": [
            "Epoch 11/20: 100%|██████████| 32/32 [00:03<00:00,  9.24batch/s, loss=0.00494]\n"
          ]
        },
        {
          "output_type": "stream",
          "name": "stdout",
          "text": [
            "CRF Loss: 0.0074920654296875\n",
            "cuda\n",
            "Epoch 11/20 - Total Loss: 0.1580\n"
          ]
        },
        {
          "output_type": "stream",
          "name": "stderr",
          "text": [
            "\rEpoch 12/20:   0%|          | 0/32 [00:00<?, ?batch/s]"
          ]
        },
        {
          "output_type": "stream",
          "name": "stdout",
          "text": [
            "CRF Loss: 0.006092071533203125\n"
          ]
        },
        {
          "output_type": "stream",
          "name": "stderr",
          "text": [
            "Epoch 12/20:   3%|▎         | 1/32 [00:00<00:04,  6.66batch/s, loss=0.00609]"
          ]
        },
        {
          "output_type": "stream",
          "name": "stdout",
          "text": [
            "CRF Loss: 0.005431175231933594\n"
          ]
        },
        {
          "output_type": "stream",
          "name": "stderr",
          "text": [
            "Epoch 12/20:   6%|▋         | 2/32 [00:00<00:04,  7.13batch/s, loss=0.00576]"
          ]
        },
        {
          "output_type": "stream",
          "name": "stdout",
          "text": [
            "CRF Loss: 0.004985809326171875\n"
          ]
        },
        {
          "output_type": "stream",
          "name": "stderr",
          "text": [
            "Epoch 12/20:   9%|▉         | 3/32 [00:00<00:03,  7.45batch/s, loss=0.0055]"
          ]
        },
        {
          "output_type": "stream",
          "name": "stdout",
          "text": [
            "CRF Loss: 0.006061553955078125\n"
          ]
        },
        {
          "output_type": "stream",
          "name": "stderr",
          "text": [
            "Epoch 12/20:  12%|█▎        | 4/32 [00:00<00:03,  7.52batch/s, loss=0.00564]"
          ]
        },
        {
          "output_type": "stream",
          "name": "stdout",
          "text": [
            "CRF Loss: 0.0040607452392578125\n"
          ]
        },
        {
          "output_type": "stream",
          "name": "stderr",
          "text": [
            "Epoch 12/20:  16%|█▌        | 5/32 [00:00<00:03,  6.79batch/s, loss=0.00533]"
          ]
        },
        {
          "output_type": "stream",
          "name": "stdout",
          "text": [
            "CRF Loss: 0.005817413330078125\n"
          ]
        },
        {
          "output_type": "stream",
          "name": "stderr",
          "text": [
            "Epoch 12/20:  19%|█▉        | 6/32 [00:00<00:03,  6.76batch/s, loss=0.00541]"
          ]
        },
        {
          "output_type": "stream",
          "name": "stdout",
          "text": [
            "CRF Loss: 0.0041408538818359375\n"
          ]
        },
        {
          "output_type": "stream",
          "name": "stderr",
          "text": [
            "Epoch 12/20:  22%|██▏       | 7/32 [00:01<00:03,  6.47batch/s, loss=0.00523]"
          ]
        },
        {
          "output_type": "stream",
          "name": "stdout",
          "text": [
            "CRF Loss: 0.004169464111328125\n"
          ]
        },
        {
          "output_type": "stream",
          "name": "stderr",
          "text": [
            "Epoch 12/20:  25%|██▌       | 8/32 [00:01<00:03,  6.27batch/s, loss=0.00509]"
          ]
        },
        {
          "output_type": "stream",
          "name": "stdout",
          "text": [
            "CRF Loss: 0.00428009033203125\n"
          ]
        },
        {
          "output_type": "stream",
          "name": "stderr",
          "text": [
            "Epoch 12/20:  28%|██▊       | 9/32 [00:01<00:03,  6.28batch/s, loss=0.005]"
          ]
        },
        {
          "output_type": "stream",
          "name": "stdout",
          "text": [
            "CRF Loss: 0.0056018829345703125\n"
          ]
        },
        {
          "output_type": "stream",
          "name": "stderr",
          "text": [
            "Epoch 12/20:  34%|███▍      | 11/32 [00:01<00:02,  7.55batch/s, loss=0.00502]"
          ]
        },
        {
          "output_type": "stream",
          "name": "stdout",
          "text": [
            "CRF Loss: 0.0045757293701171875\n"
          ]
        },
        {
          "output_type": "stream",
          "name": "stderr",
          "text": [
            "Epoch 12/20:  38%|███▊      | 12/32 [00:01<00:02,  7.71batch/s, loss=0.00487]"
          ]
        },
        {
          "output_type": "stream",
          "name": "stdout",
          "text": [
            "CRF Loss: 0.0032672882080078125\n"
          ]
        },
        {
          "output_type": "stream",
          "name": "stderr",
          "text": [
            "Epoch 12/20:  41%|████      | 13/32 [00:01<00:02,  8.27batch/s, loss=0.00489]"
          ]
        },
        {
          "output_type": "stream",
          "name": "stdout",
          "text": [
            "CRF Loss: 0.005061149597167969\n"
          ]
        },
        {
          "output_type": "stream",
          "name": "stderr",
          "text": [
            "Epoch 12/20:  44%|████▍     | 14/32 [00:01<00:02,  8.68batch/s, loss=0.00496]"
          ]
        },
        {
          "output_type": "stream",
          "name": "stdout",
          "text": [
            "CRF Loss: 0.005947113037109375\n",
            "CRF Loss: 0.0059986114501953125\n"
          ]
        },
        {
          "output_type": "stream",
          "name": "stderr",
          "text": [
            "Epoch 12/20:  53%|█████▎    | 17/32 [00:02<00:01,  9.46batch/s, loss=0.00493]"
          ]
        },
        {
          "output_type": "stream",
          "name": "stdout",
          "text": [
            "CRF Loss: 0.0038089752197265625\n",
            "CRF Loss: 0.004528045654296875\n",
            "CRF Loss: 0.0054111480712890625\n"
          ]
        },
        {
          "output_type": "stream",
          "name": "stderr",
          "text": [
            "Epoch 12/20:  59%|█████▉    | 19/32 [00:02<00:01,  9.64batch/s, loss=0.00486]"
          ]
        },
        {
          "output_type": "stream",
          "name": "stdout",
          "text": [
            "CRF Loss: 0.0036916732788085938\n",
            "CRF Loss: 0.004191398620605469\n",
            "CRF Loss: 0.0036802291870117188\n"
          ]
        },
        {
          "output_type": "stream",
          "name": "stderr",
          "text": [
            "Epoch 12/20:  69%|██████▉   | 22/32 [00:02<00:01,  9.43batch/s, loss=0.00477]"
          ]
        },
        {
          "output_type": "stream",
          "name": "stdout",
          "text": [
            "CRF Loss: 0.004776954650878906\n",
            "CRF Loss: 0.0041065216064453125\n",
            "CRF Loss: 0.0055866241455078125\n"
          ]
        },
        {
          "output_type": "stream",
          "name": "stderr",
          "text": [
            "Epoch 12/20:  78%|███████▊  | 25/32 [00:03<00:00,  9.77batch/s, loss=0.00478]"
          ]
        },
        {
          "output_type": "stream",
          "name": "stdout",
          "text": [
            "CRF Loss: 0.0042858123779296875\n",
            "CRF Loss: 0.004624366760253906\n",
            "CRF Loss: 0.0035753250122070312\n"
          ]
        },
        {
          "output_type": "stream",
          "name": "stderr",
          "text": [
            "Epoch 12/20:  88%|████████▊ | 28/32 [00:03<00:00,  9.84batch/s, loss=0.00466]"
          ]
        },
        {
          "output_type": "stream",
          "name": "stdout",
          "text": [
            "CRF Loss: 0.0036077499389648438\n",
            "CRF Loss: 0.00370025634765625\n",
            "CRF Loss: 0.0035390853881835938\n"
          ]
        },
        {
          "output_type": "stream",
          "name": "stderr",
          "text": [
            "Epoch 12/20: 100%|██████████| 32/32 [00:03<00:00,  8.57batch/s, loss=0.00454]\n"
          ]
        },
        {
          "output_type": "stream",
          "name": "stdout",
          "text": [
            "CRF Loss: 0.003276824951171875\n",
            "CRF Loss: 0.00347137451171875\n",
            "cuda\n",
            "Epoch 12/20 - Total Loss: 0.1454\n"
          ]
        },
        {
          "output_type": "stream",
          "name": "stderr",
          "text": [
            "Epoch 13/20:   6%|▋         | 2/32 [00:00<00:02, 10.21batch/s, loss=0.00701]"
          ]
        },
        {
          "output_type": "stream",
          "name": "stdout",
          "text": [
            "CRF Loss: 0.00334930419921875\n",
            "CRF Loss: 0.0036563873291015625\n",
            "CRF Loss: 0.004252433776855469\n"
          ]
        },
        {
          "output_type": "stream",
          "name": "stderr",
          "text": [
            "Epoch 13/20:  12%|█▎        | 4/32 [00:00<00:02, 10.16batch/s, loss=0.00417]"
          ]
        },
        {
          "output_type": "stream",
          "name": "stdout",
          "text": [
            "CRF Loss: 0.005471229553222656\n",
            "CRF Loss: 0.0041027069091796875\n",
            "CRF Loss: 0.004307746887207031\n"
          ]
        },
        {
          "output_type": "stream",
          "name": "stderr",
          "text": [
            "Epoch 13/20:  25%|██▌       | 8/32 [00:00<00:02, 10.14batch/s, loss=0.00474]"
          ]
        },
        {
          "output_type": "stream",
          "name": "stdout",
          "text": [
            "CRF Loss: 0.004431724548339844\n",
            "CRF Loss: 0.0036420822143554688\n",
            "CRF Loss: 0.0036163330078125\n"
          ]
        },
        {
          "output_type": "stream",
          "name": "stderr",
          "text": [
            "Epoch 13/20:  31%|███▏      | 10/32 [00:01<00:02,  9.73batch/s, loss=0.00408]"
          ]
        },
        {
          "output_type": "stream",
          "name": "stdout",
          "text": [
            "CRF Loss: 0.0038280487060546875\n",
            "CRF Loss: 0.00417327880859375\n"
          ]
        },
        {
          "output_type": "stream",
          "name": "stderr",
          "text": [
            "Epoch 13/20:  38%|███▊      | 12/32 [00:01<00:02,  9.91batch/s, loss=0.004]  "
          ]
        },
        {
          "output_type": "stream",
          "name": "stdout",
          "text": [
            "CRF Loss: 0.0034914016723632812\n",
            "CRF Loss: 0.003681182861328125\n",
            "CRF Loss: 0.0047473907470703125\n"
          ]
        },
        {
          "output_type": "stream",
          "name": "stderr",
          "text": [
            "Epoch 13/20:  50%|█████     | 16/32 [00:01<00:01, 10.08batch/s, loss=0.00425]"
          ]
        },
        {
          "output_type": "stream",
          "name": "stdout",
          "text": [
            "CRF Loss: 0.0033359527587890625\n",
            "CRF Loss: 0.0037107467651367188\n",
            "CRF Loss: 0.003833770751953125\n"
          ]
        },
        {
          "output_type": "stream",
          "name": "stderr",
          "text": [
            "Epoch 13/20:  56%|█████▋    | 18/32 [00:01<00:01, 10.13batch/s, loss=0.00399]"
          ]
        },
        {
          "output_type": "stream",
          "name": "stdout",
          "text": [
            "CRF Loss: 0.0035333633422851562\n",
            "CRF Loss: 0.004616737365722656\n"
          ]
        },
        {
          "output_type": "stream",
          "name": "stderr",
          "text": [
            "Epoch 13/20:  62%|██████▎   | 20/32 [00:02<00:01,  9.78batch/s, loss=0.00407]"
          ]
        },
        {
          "output_type": "stream",
          "name": "stdout",
          "text": [
            "CRF Loss: 0.004550933837890625\n",
            "CRF Loss: 0.005070686340332031\n"
          ]
        },
        {
          "output_type": "stream",
          "name": "stderr",
          "text": [
            "Epoch 13/20:  69%|██████▉   | 22/32 [00:02<00:01,  9.90batch/s, loss=0.00425]"
          ]
        },
        {
          "output_type": "stream",
          "name": "stdout",
          "text": [
            "CRF Loss: 0.0061492919921875\n",
            "CRF Loss: 0.006104469299316406\n",
            "CRF Loss: 0.005515098571777344\n"
          ]
        },
        {
          "output_type": "stream",
          "name": "stderr",
          "text": [
            "Epoch 13/20:  81%|████████▏ | 26/32 [00:02<00:00, 10.07batch/s, loss=0.00438]"
          ]
        },
        {
          "output_type": "stream",
          "name": "stdout",
          "text": [
            "CRF Loss: 0.0032958984375\n",
            "CRF Loss: 0.0031118392944335938\n",
            "CRF Loss: 0.0038175582885742188\n"
          ]
        },
        {
          "output_type": "stream",
          "name": "stderr",
          "text": [
            "Epoch 13/20:  88%|████████▊ | 28/32 [00:02<00:00, 10.12batch/s, loss=0.00426]"
          ]
        },
        {
          "output_type": "stream",
          "name": "stdout",
          "text": [
            "CRF Loss: 0.004791259765625\n",
            "CRF Loss: 0.005459785461425781\n"
          ]
        },
        {
          "output_type": "stream",
          "name": "stderr",
          "text": [
            "Epoch 13/20:  94%|█████████▍| 30/32 [00:03<00:00,  9.82batch/s, loss=0.0043] "
          ]
        },
        {
          "output_type": "stream",
          "name": "stdout",
          "text": [
            "CRF Loss: 0.004187583923339844\n",
            "CRF Loss: 0.0053310394287109375\n"
          ]
        },
        {
          "output_type": "stream",
          "name": "stderr",
          "text": [
            "Epoch 13/20: 100%|██████████| 32/32 [00:03<00:00, 10.02batch/s, loss=0.00445]\n"
          ]
        },
        {
          "output_type": "stream",
          "name": "stdout",
          "text": [
            "CRF Loss: 0.004638671875\n",
            "cuda\n",
            "Epoch 13/20 - Total Loss: 0.1378\n"
          ]
        },
        {
          "output_type": "stream",
          "name": "stderr",
          "text": [
            "Epoch 14/20:   3%|▎         | 1/32 [00:00<00:03,  9.95batch/s, loss=0.00418]"
          ]
        },
        {
          "output_type": "stream",
          "name": "stdout",
          "text": [
            "CRF Loss: 0.004177093505859375\n",
            "CRF Loss: 0.004948616027832031\n"
          ]
        },
        {
          "output_type": "stream",
          "name": "stderr",
          "text": [
            "Epoch 14/20:   6%|▋         | 2/32 [00:00<00:03,  9.90batch/s, loss=0.00456]"
          ]
        },
        {
          "output_type": "stream",
          "name": "stdout",
          "text": [
            "CRF Loss: 0.004803657531738281\n"
          ]
        },
        {
          "output_type": "stream",
          "name": "stderr",
          "text": [
            "Epoch 14/20:   9%|▉         | 3/32 [00:00<00:02,  9.84batch/s, loss=0.00446]"
          ]
        },
        {
          "output_type": "stream",
          "name": "stdout",
          "text": [
            "CRF Loss: 0.00392913818359375\n"
          ]
        },
        {
          "output_type": "stream",
          "name": "stderr",
          "text": [
            "Epoch 14/20:  16%|█▌        | 5/32 [00:00<00:02,  9.86batch/s, loss=0.00544]"
          ]
        },
        {
          "output_type": "stream",
          "name": "stdout",
          "text": [
            "CRF Loss: 0.0038852691650390625\n"
          ]
        },
        {
          "output_type": "stream",
          "name": "stderr",
          "text": [
            "\rEpoch 14/20:  16%|█▌        | 5/32 [00:00<00:02,  9.86batch/s, loss=0.00429]"
          ]
        },
        {
          "output_type": "stream",
          "name": "stdout",
          "text": [
            "CRF Loss: 0.004000663757324219\n",
            "CRF Loss: 0.00313568115234375\n"
          ]
        },
        {
          "output_type": "stream",
          "name": "stderr",
          "text": [
            "Epoch 14/20:  28%|██▊       | 9/32 [00:00<00:02,  9.22batch/s, loss=0.00409]"
          ]
        },
        {
          "output_type": "stream",
          "name": "stdout",
          "text": [
            "CRF Loss: 0.0039043426513671875\n",
            "CRF Loss: 0.003993988037109375\n"
          ]
        },
        {
          "output_type": "stream",
          "name": "stderr",
          "text": [
            "Epoch 14/20:  31%|███▏      | 10/32 [00:01<00:02,  9.32batch/s, loss=0.00395]"
          ]
        },
        {
          "output_type": "stream",
          "name": "stdout",
          "text": [
            "CRF Loss: 0.0035638809204101562\n",
            "CRF Loss: 0.0031423568725585938\n",
            "CRF Loss: 0.0049896240234375\n"
          ]
        },
        {
          "output_type": "stream",
          "name": "stderr",
          "text": [
            "Epoch 14/20:  44%|████▍     | 14/32 [00:01<00:01,  9.89batch/s, loss=0.00436]"
          ]
        },
        {
          "output_type": "stream",
          "name": "stdout",
          "text": [
            "CRF Loss: 0.004521369934082031\n",
            "CRF Loss: 0.0037450790405273438\n",
            "CRF Loss: 0.0021953582763671875\n"
          ]
        },
        {
          "output_type": "stream",
          "name": "stderr",
          "text": [
            "Epoch 14/20:  53%|█████▎    | 17/32 [00:01<00:01,  9.74batch/s, loss=0.00415]"
          ]
        },
        {
          "output_type": "stream",
          "name": "stdout",
          "text": [
            "CRF Loss: 0.0033655166625976562\n",
            "CRF Loss: 0.00415802001953125\n"
          ]
        },
        {
          "output_type": "stream",
          "name": "stderr",
          "text": [
            "Epoch 14/20:  56%|█████▋    | 18/32 [00:01<00:01,  9.57batch/s, loss=0.00386]"
          ]
        },
        {
          "output_type": "stream",
          "name": "stdout",
          "text": [
            "CRF Loss: 0.004584312438964844\n",
            "CRF Loss: 0.0023708343505859375\n"
          ]
        },
        {
          "output_type": "stream",
          "name": "stderr",
          "text": [
            "Epoch 14/20:  66%|██████▌   | 21/32 [00:02<00:01,  9.82batch/s, loss=0.00385]"
          ]
        },
        {
          "output_type": "stream",
          "name": "stdout",
          "text": [
            "CRF Loss: 0.004169464111328125\n",
            "CRF Loss: 0.003238677978515625\n",
            "CRF Loss: 0.0039577484130859375\n"
          ]
        },
        {
          "output_type": "stream",
          "name": "stderr",
          "text": [
            "Epoch 14/20:  75%|███████▌  | 24/32 [00:02<00:00,  9.96batch/s, loss=0.00391]"
          ]
        },
        {
          "output_type": "stream",
          "name": "stdout",
          "text": [
            "CRF Loss: 0.004759788513183594\n",
            "CRF Loss: 0.004267692565917969\n",
            "CRF Loss: 0.0046291351318359375\n"
          ]
        },
        {
          "output_type": "stream",
          "name": "stderr",
          "text": [
            "Epoch 14/20:  84%|████████▍ | 27/32 [00:02<00:00,  9.69batch/s, loss=0.00396]"
          ]
        },
        {
          "output_type": "stream",
          "name": "stdout",
          "text": [
            "CRF Loss: 0.004520416259765625\n",
            "CRF Loss: 0.004000663757324219\n"
          ]
        },
        {
          "output_type": "stream",
          "name": "stderr",
          "text": [
            "Epoch 14/20:  88%|████████▊ | 28/32 [00:03<00:00,  9.48batch/s, loss=0.004]  "
          ]
        },
        {
          "output_type": "stream",
          "name": "stdout",
          "text": [
            "CRF Loss: 0.004574775695800781\n",
            "CRF Loss: 0.004399299621582031\n"
          ]
        },
        {
          "output_type": "stream",
          "name": "stderr",
          "text": [
            "Epoch 14/20:  94%|█████████▍| 30/32 [00:03<00:00,  9.72batch/s, loss=0.00403]"
          ]
        },
        {
          "output_type": "stream",
          "name": "stdout",
          "text": [
            "CRF Loss: 0.004603385925292969\n",
            "CRF Loss: 0.004352569580078125\n",
            "CRF Loss: 0.00473785400390625\n"
          ]
        },
        {
          "output_type": "stream",
          "name": "stderr",
          "text": [
            "Epoch 14/20: 100%|██████████| 32/32 [00:03<00:00,  9.73batch/s, loss=0.00418]\n"
          ]
        },
        {
          "output_type": "stream",
          "name": "stdout",
          "text": [
            "cuda\n",
            "Epoch 14/20 - Total Loss: 0.1296\n"
          ]
        },
        {
          "output_type": "stream",
          "name": "stderr",
          "text": [
            "Epoch 15/20:   3%|▎         | 1/32 [00:00<00:03,  9.68batch/s, loss=0.00325]"
          ]
        },
        {
          "output_type": "stream",
          "name": "stdout",
          "text": [
            "CRF Loss: 0.0032548904418945312\n",
            "CRF Loss: 0.002956390380859375\n"
          ]
        },
        {
          "output_type": "stream",
          "name": "stderr",
          "text": [
            "Epoch 15/20:  12%|█▎        | 4/32 [00:00<00:03,  9.16batch/s, loss=0.00334]"
          ]
        },
        {
          "output_type": "stream",
          "name": "stdout",
          "text": [
            "CRF Loss: 0.0035037994384765625\n",
            "CRF Loss: 0.0036296844482421875\n"
          ]
        },
        {
          "output_type": "stream",
          "name": "stderr",
          "text": [
            "Epoch 15/20:  19%|█▉        | 6/32 [00:00<00:02,  9.35batch/s, loss=0.00336]"
          ]
        },
        {
          "output_type": "stream",
          "name": "stdout",
          "text": [
            "CRF Loss: 0.004302978515625\n",
            "CRF Loss: 0.0025224685668945312\n"
          ]
        },
        {
          "output_type": "stream",
          "name": "stderr",
          "text": [
            "Epoch 15/20:  22%|██▏       | 7/32 [00:00<00:02,  9.50batch/s, loss=0.0035] "
          ]
        },
        {
          "output_type": "stream",
          "name": "stdout",
          "text": [
            "CRF Loss: 0.0034437179565429688\n",
            "CRF Loss: 0.00435638427734375\n",
            "CRF Loss: 0.0036573410034179688\n"
          ]
        },
        {
          "output_type": "stream",
          "name": "stderr",
          "text": [
            "Epoch 15/20:  34%|███▍      | 11/32 [00:01<00:02,  9.95batch/s, loss=0.00403]"
          ]
        },
        {
          "output_type": "stream",
          "name": "stdout",
          "text": [
            "CRF Loss: 0.004021644592285156\n",
            "CRF Loss: 0.0046215057373046875\n",
            "CRF Loss: 0.002727508544921875\n"
          ]
        },
        {
          "output_type": "stream",
          "name": "stderr",
          "text": [
            "Epoch 15/20:  41%|████      | 13/32 [00:01<00:02,  8.33batch/s, loss=0.00353]"
          ]
        },
        {
          "output_type": "stream",
          "name": "stdout",
          "text": [
            "CRF Loss: 0.0029449462890625\n",
            "CRF Loss: 0.0033197402954101562\n"
          ]
        },
        {
          "output_type": "stream",
          "name": "stderr",
          "text": [
            "Epoch 15/20:  47%|████▋     | 15/32 [00:01<00:02,  7.34batch/s, loss=0.00351]"
          ]
        },
        {
          "output_type": "stream",
          "name": "stdout",
          "text": [
            "CRF Loss: 0.0034580230712890625\n",
            "CRF Loss: 0.004355430603027344\n"
          ]
        },
        {
          "output_type": "stream",
          "name": "stderr",
          "text": [
            "Epoch 15/20:  53%|█████▎    | 17/32 [00:02<00:02,  7.32batch/s, loss=0.00357]"
          ]
        },
        {
          "output_type": "stream",
          "name": "stdout",
          "text": [
            "CRF Loss: 0.0035338401794433594\n",
            "CRF Loss: 0.004990577697753906\n"
          ]
        },
        {
          "output_type": "stream",
          "name": "stderr",
          "text": [
            "Epoch 15/20:  59%|█████▉    | 19/32 [00:02<00:01,  7.51batch/s, loss=0.00367]"
          ]
        },
        {
          "output_type": "stream",
          "name": "stdout",
          "text": [
            "CRF Loss: 0.004130840301513672\n",
            "CRF Loss: 0.0034513473510742188\n"
          ]
        },
        {
          "output_type": "stream",
          "name": "stderr",
          "text": [
            "Epoch 15/20:  66%|██████▌   | 21/32 [00:02<00:01,  7.62batch/s, loss=0.00365]"
          ]
        },
        {
          "output_type": "stream",
          "name": "stdout",
          "text": [
            "CRF Loss: 0.0034170150756835938\n",
            "CRF Loss: 0.0049991607666015625\n"
          ]
        },
        {
          "output_type": "stream",
          "name": "stderr",
          "text": [
            "Epoch 15/20:  72%|███████▏  | 23/32 [00:02<00:01,  7.06batch/s, loss=0.00374]"
          ]
        },
        {
          "output_type": "stream",
          "name": "stdout",
          "text": [
            "CRF Loss: 0.004367351531982422\n",
            "CRF Loss: 0.0036792755126953125\n"
          ]
        },
        {
          "output_type": "stream",
          "name": "stderr",
          "text": [
            "Epoch 15/20:  78%|███████▊  | 25/32 [00:03<00:01,  6.55batch/s, loss=0.00374]"
          ]
        },
        {
          "output_type": "stream",
          "name": "stdout",
          "text": [
            "CRF Loss: 0.0037555694580078125\n",
            "CRF Loss: 0.0035085678100585938\n"
          ]
        },
        {
          "output_type": "stream",
          "name": "stderr",
          "text": [
            "Epoch 15/20:  84%|████████▍ | 27/32 [00:03<00:00,  6.91batch/s, loss=0.00377]"
          ]
        },
        {
          "output_type": "stream",
          "name": "stdout",
          "text": [
            "CRF Loss: 0.005053043365478516\n",
            "CRF Loss: 0.00372314453125\n"
          ]
        },
        {
          "output_type": "stream",
          "name": "stderr",
          "text": [
            "Epoch 15/20:  94%|█████████▍| 30/32 [00:03<00:00,  8.35batch/s, loss=0.00381]"
          ]
        },
        {
          "output_type": "stream",
          "name": "stdout",
          "text": [
            "CRF Loss: 0.0038785934448242188\n",
            "CRF Loss: 0.0047206878662109375\n"
          ]
        },
        {
          "output_type": "stream",
          "name": "stderr",
          "text": [
            "Epoch 15/20: 100%|██████████| 32/32 [00:03<00:00,  8.10batch/s, loss=0.00383]\n"
          ]
        },
        {
          "output_type": "stream",
          "name": "stdout",
          "text": [
            "CRF Loss: 0.004031181335449219\n",
            "CRF Loss: 0.0041046142578125\n",
            "cuda\n",
            "Epoch 15/20 - Total Loss: 0.1224\n"
          ]
        },
        {
          "output_type": "stream",
          "name": "stderr",
          "text": [
            "\rEpoch 16/20:   0%|          | 0/32 [00:00<?, ?batch/s]"
          ]
        },
        {
          "output_type": "stream",
          "name": "stdout",
          "text": [
            "CRF Loss: 0.004134178161621094\n"
          ]
        },
        {
          "output_type": "stream",
          "name": "stderr",
          "text": [
            "Epoch 16/20:   6%|▋         | 2/32 [00:00<00:03,  9.80batch/s, loss=0.00297]"
          ]
        },
        {
          "output_type": "stream",
          "name": "stdout",
          "text": [
            "CRF Loss: 0.0017986297607421875\n"
          ]
        },
        {
          "output_type": "stream",
          "name": "stderr",
          "text": [
            "Epoch 16/20:   9%|▉         | 3/32 [00:00<00:02,  9.76batch/s, loss=0.00321]"
          ]
        },
        {
          "output_type": "stream",
          "name": "stdout",
          "text": [
            "CRF Loss: 0.0036950111389160156\n"
          ]
        },
        {
          "output_type": "stream",
          "name": "stderr",
          "text": [
            "Epoch 16/20:  12%|█▎        | 4/32 [00:00<00:02,  9.83batch/s, loss=0.00343]"
          ]
        },
        {
          "output_type": "stream",
          "name": "stdout",
          "text": [
            "CRF Loss: 0.00409698486328125\n"
          ]
        },
        {
          "output_type": "stream",
          "name": "stderr",
          "text": [
            "Epoch 16/20:  16%|█▌        | 5/32 [00:00<00:02,  9.32batch/s, loss=0.00356]"
          ]
        },
        {
          "output_type": "stream",
          "name": "stdout",
          "text": [
            "CRF Loss: 0.004062652587890625\n"
          ]
        },
        {
          "output_type": "stream",
          "name": "stderr",
          "text": [
            "Epoch 16/20:  19%|█▉        | 6/32 [00:00<00:02,  9.50batch/s, loss=0.0035]"
          ]
        },
        {
          "output_type": "stream",
          "name": "stdout",
          "text": [
            "CRF Loss: 0.0032396316528320312\n"
          ]
        },
        {
          "output_type": "stream",
          "name": "stderr",
          "text": [
            "Epoch 16/20:  22%|██▏       | 7/32 [00:00<00:02,  9.61batch/s, loss=0.00347]"
          ]
        },
        {
          "output_type": "stream",
          "name": "stdout",
          "text": [
            "CRF Loss: 0.0032405853271484375\n",
            "CRF Loss: 0.0027189254760742188\n"
          ]
        },
        {
          "output_type": "stream",
          "name": "stderr",
          "text": [
            "Epoch 16/20:  31%|███▏      | 10/32 [00:01<00:02,  9.78batch/s, loss=0.00377]"
          ]
        },
        {
          "output_type": "stream",
          "name": "stdout",
          "text": [
            "CRF Loss: 0.0034303665161132812\n",
            "CRF Loss: 0.0035085678100585938\n",
            "CRF Loss: 0.003937244415283203\n"
          ]
        },
        {
          "output_type": "stream",
          "name": "stderr",
          "text": [
            "Epoch 16/20:  38%|███▊      | 12/32 [00:01<00:02,  9.91batch/s, loss=0.0035] "
          ]
        },
        {
          "output_type": "stream",
          "name": "stdout",
          "text": [
            "CRF Loss: 0.0032935142517089844\n",
            "CRF Loss: 0.00428009033203125\n",
            "CRF Loss: 0.0032396316528320312\n"
          ]
        },
        {
          "output_type": "stream",
          "name": "stderr",
          "text": [
            "Epoch 16/20:  47%|████▋     | 15/32 [00:01<00:01,  9.75batch/s, loss=0.00343]"
          ]
        },
        {
          "output_type": "stream",
          "name": "stdout",
          "text": [
            "CRF Loss: 0.0029888153076171875\n",
            "CRF Loss: 0.003169536590576172\n",
            "CRF Loss: 0.0023899078369140625\n"
          ]
        },
        {
          "output_type": "stream",
          "name": "stderr",
          "text": [
            "Epoch 16/20:  56%|█████▋    | 18/32 [00:01<00:01,  9.70batch/s, loss=0.00339]"
          ]
        },
        {
          "output_type": "stream",
          "name": "stdout",
          "text": [
            "CRF Loss: 0.0032663345336914062\n",
            "CRF Loss: 0.0039424896240234375\n"
          ]
        },
        {
          "output_type": "stream",
          "name": "stderr",
          "text": [
            "Epoch 16/20:  62%|██████▎   | 20/32 [00:02<00:01,  9.86batch/s, loss=0.00341]"
          ]
        },
        {
          "output_type": "stream",
          "name": "stdout",
          "text": [
            "CRF Loss: 0.004503726959228516\n",
            "CRF Loss: 0.0026209354400634766\n",
            "CRF Loss: 0.004607200622558594\n"
          ]
        },
        {
          "output_type": "stream",
          "name": "stderr",
          "text": [
            "Epoch 16/20:  75%|███████▌  | 24/32 [00:02<00:00,  9.79batch/s, loss=0.00347]"
          ]
        },
        {
          "output_type": "stream",
          "name": "stdout",
          "text": [
            "CRF Loss: 0.0034046173095703125\n",
            "CRF Loss: 0.003745555877685547\n"
          ]
        },
        {
          "output_type": "stream",
          "name": "stderr",
          "text": [
            "Epoch 16/20:  78%|███████▊  | 25/32 [00:02<00:00,  9.69batch/s, loss=0.00348]"
          ]
        },
        {
          "output_type": "stream",
          "name": "stdout",
          "text": [
            "CRF Loss: 0.0038957595825195312\n",
            "CRF Loss: 0.0033903121948242188\n",
            "CRF Loss: 0.006262779235839844\n"
          ]
        },
        {
          "output_type": "stream",
          "name": "stderr",
          "text": [
            "Epoch 16/20:  88%|████████▊ | 28/32 [00:02<00:00,  9.77batch/s, loss=0.00354]"
          ]
        },
        {
          "output_type": "stream",
          "name": "stdout",
          "text": [
            "CRF Loss: 0.003155231475830078\n",
            "CRF Loss: 0.002748250961303711\n"
          ]
        },
        {
          "output_type": "stream",
          "name": "stderr",
          "text": [
            "Epoch 16/20:  94%|█████████▍| 30/32 [00:03<00:00,  9.87batch/s, loss=0.00352]"
          ]
        },
        {
          "output_type": "stream",
          "name": "stdout",
          "text": [
            "CRF Loss: 0.0035376548767089844\n",
            "CRF Loss: 0.0028228759765625\n",
            "CRF Loss: 0.0068264007568359375\n"
          ]
        },
        {
          "output_type": "stream",
          "name": "stderr",
          "text": [
            "Epoch 16/20: 100%|██████████| 32/32 [00:03<00:00,  9.83batch/s, loss=0.00374]\n"
          ]
        },
        {
          "output_type": "stream",
          "name": "stdout",
          "text": [
            "cuda\n",
            "Epoch 16/20 - Total Loss: 0.1160\n"
          ]
        },
        {
          "output_type": "stream",
          "name": "stderr",
          "text": [
            "Epoch 17/20:   3%|▎         | 1/32 [00:00<00:03,  9.71batch/s, loss=0.00395]"
          ]
        },
        {
          "output_type": "stream",
          "name": "stdout",
          "text": [
            "CRF Loss: 0.003947257995605469\n",
            "CRF Loss: 0.0030357837677001953\n"
          ]
        },
        {
          "output_type": "stream",
          "name": "stderr",
          "text": [
            "Epoch 17/20:  12%|█▎        | 4/32 [00:00<00:02,  9.89batch/s, loss=0.00437]"
          ]
        },
        {
          "output_type": "stream",
          "name": "stdout",
          "text": [
            "CRF Loss: 0.003658294677734375\n",
            "CRF Loss: 0.0024628639221191406\n",
            "CRF Loss: 0.0028629302978515625\n"
          ]
        },
        {
          "output_type": "stream",
          "name": "stderr",
          "text": [
            "Epoch 17/20:  19%|█▉        | 6/32 [00:00<00:02,  9.62batch/s, loss=0.00314]"
          ]
        },
        {
          "output_type": "stream",
          "name": "stdout",
          "text": [
            "CRF Loss: 0.003032207489013672\n",
            "CRF Loss: 0.002956867218017578\n"
          ]
        },
        {
          "output_type": "stream",
          "name": "stderr",
          "text": [
            "Epoch 17/20:  25%|██▌       | 8/32 [00:00<00:02,  9.84batch/s, loss=0.00343]"
          ]
        },
        {
          "output_type": "stream",
          "name": "stdout",
          "text": [
            "CRF Loss: 0.004789829254150391\n",
            "CRF Loss: 0.004080295562744141\n",
            "CRF Loss: 0.0025331974029541016\n"
          ]
        },
        {
          "output_type": "stream",
          "name": "stderr",
          "text": [
            "Epoch 17/20:  38%|███▊      | 12/32 [00:01<00:02,  9.89batch/s, loss=0.00372]"
          ]
        },
        {
          "output_type": "stream",
          "name": "stdout",
          "text": [
            "CRF Loss: 0.0034689903259277344\n",
            "CRF Loss: 0.004089832305908203\n"
          ]
        },
        {
          "output_type": "stream",
          "name": "stderr",
          "text": [
            "Epoch 17/20:  41%|████      | 13/32 [00:01<00:01,  9.90batch/s, loss=0.00336]"
          ]
        },
        {
          "output_type": "stream",
          "name": "stdout",
          "text": [
            "CRF Loss: 0.0036911964416503906\n",
            "CRF Loss: 0.0024704933166503906\n",
            "CRF Loss: 0.0030570030212402344\n"
          ]
        },
        {
          "output_type": "stream",
          "name": "stderr",
          "text": [
            "Epoch 17/20:  50%|█████     | 16/32 [00:01<00:01,  9.66batch/s, loss=0.00335]"
          ]
        },
        {
          "output_type": "stream",
          "name": "stdout",
          "text": [
            "CRF Loss: 0.0029941797256469727\n",
            "CRF Loss: 0.0037488937377929688\n"
          ]
        },
        {
          "output_type": "stream",
          "name": "stderr",
          "text": [
            "Epoch 17/20:  56%|█████▋    | 18/32 [00:01<00:01,  9.88batch/s, loss=0.00331]"
          ]
        },
        {
          "output_type": "stream",
          "name": "stdout",
          "text": [
            "CRF Loss: 0.002629518508911133\n",
            "CRF Loss: 0.003336668014526367\n",
            "CRF Loss: 0.003394603729248047\n"
          ]
        },
        {
          "output_type": "stream",
          "name": "stderr",
          "text": [
            "Epoch 17/20:  69%|██████▉   | 22/32 [00:02<00:01,  9.87batch/s, loss=0.00349]"
          ]
        },
        {
          "output_type": "stream",
          "name": "stdout",
          "text": [
            "CRF Loss: 0.0038068294525146484\n",
            "CRF Loss: 0.0032575130462646484\n"
          ]
        },
        {
          "output_type": "stream",
          "name": "stderr",
          "text": [
            "Epoch 17/20:  72%|███████▏  | 23/32 [00:02<00:00,  9.79batch/s, loss=0.00332]"
          ]
        },
        {
          "output_type": "stream",
          "name": "stdout",
          "text": [
            "CRF Loss: 0.0028362274169921875\n",
            "CRF Loss: 0.0035409927368164062\n",
            "CRF Loss: 0.0028023719787597656\n"
          ]
        },
        {
          "output_type": "stream",
          "name": "stderr",
          "text": [
            "Epoch 17/20:  81%|████████▏ | 26/32 [00:02<00:00,  9.78batch/s, loss=0.00332]"
          ]
        },
        {
          "output_type": "stream",
          "name": "stdout",
          "text": [
            "CRF Loss: 0.00408172607421875\n",
            "CRF Loss: 0.003105640411376953\n"
          ]
        },
        {
          "output_type": "stream",
          "name": "stderr",
          "text": [
            "Epoch 17/20:  91%|█████████ | 29/32 [00:02<00:00,  9.90batch/s, loss=0.00335]"
          ]
        },
        {
          "output_type": "stream",
          "name": "stdout",
          "text": [
            "CRF Loss: 0.002825498580932617\n",
            "CRF Loss: 0.004627704620361328\n"
          ]
        },
        {
          "output_type": "stream",
          "name": "stderr",
          "text": [
            "Epoch 17/20:  94%|█████████▍| 30/32 [00:03<00:00,  9.84batch/s, loss=0.00331]"
          ]
        },
        {
          "output_type": "stream",
          "name": "stdout",
          "text": [
            "CRF Loss: 0.003113985061645508\n",
            "CRF Loss: 0.002492189407348633\n"
          ]
        },
        {
          "output_type": "stream",
          "name": "stderr",
          "text": [
            "Epoch 17/20: 100%|██████████| 32/32 [00:03<00:00,  9.82batch/s, loss=0.00342]\n"
          ]
        },
        {
          "output_type": "stream",
          "name": "stdout",
          "text": [
            "CRF Loss: 0.0034084320068359375\n",
            "cuda\n",
            "Epoch 17/20 - Total Loss: 0.1061\n"
          ]
        },
        {
          "output_type": "stream",
          "name": "stderr",
          "text": [
            "Epoch 18/20:   3%|▎         | 1/32 [00:00<00:03,  9.42batch/s, loss=0.00311]"
          ]
        },
        {
          "output_type": "stream",
          "name": "stdout",
          "text": [
            "CRF Loss: 0.003114461898803711\n"
          ]
        },
        {
          "output_type": "stream",
          "name": "stderr",
          "text": [
            "Epoch 18/20:   6%|▋         | 2/32 [00:00<00:03,  9.40batch/s, loss=0.0031]"
          ]
        },
        {
          "output_type": "stream",
          "name": "stdout",
          "text": [
            "CRF Loss: 0.003093719482421875\n"
          ]
        },
        {
          "output_type": "stream",
          "name": "stderr",
          "text": [
            "\rEpoch 18/20:   6%|▋         | 2/32 [00:00<00:03,  9.40batch/s, loss=0.00291]"
          ]
        },
        {
          "output_type": "stream",
          "name": "stdout",
          "text": [
            "CRF Loss: 0.002508878707885742\n",
            "CRF Loss: 0.0027289390563964844\n"
          ]
        },
        {
          "output_type": "stream",
          "name": "stderr",
          "text": [
            "Epoch 18/20:  19%|█▉        | 6/32 [00:00<00:02,  9.87batch/s, loss=0.00337]"
          ]
        },
        {
          "output_type": "stream",
          "name": "stdout",
          "text": [
            "CRF Loss: 0.0018880367279052734\n",
            "CRF Loss: 0.003536224365234375\n",
            "CRF Loss: 0.002091318368911743\n"
          ]
        },
        {
          "output_type": "stream",
          "name": "stderr",
          "text": [
            "Epoch 18/20:  28%|██▊       | 9/32 [00:00<00:02,  9.76batch/s, loss=0.00283]"
          ]
        },
        {
          "output_type": "stream",
          "name": "stdout",
          "text": [
            "CRF Loss: 0.0026841163635253906\n",
            "CRF Loss: 0.0038616955280303955\n"
          ]
        },
        {
          "output_type": "stream",
          "name": "stderr",
          "text": [
            "Epoch 18/20:  31%|███▏      | 10/32 [00:01<00:02,  9.50batch/s, loss=0.00288]"
          ]
        },
        {
          "output_type": "stream",
          "name": "stdout",
          "text": [
            "CRF Loss: 0.002566888928413391\n",
            "CRF Loss: 0.0036373138427734375\n",
            "CRF Loss: 0.0035152360796928406\n"
          ]
        },
        {
          "output_type": "stream",
          "name": "stderr",
          "text": [
            "Epoch 18/20:  44%|████▍     | 14/32 [00:01<00:01,  9.63batch/s, loss=0.00282]"
          ]
        },
        {
          "output_type": "stream",
          "name": "stdout",
          "text": [
            "CRF Loss: 0.0017584562301635742\n",
            "CRF Loss: 0.002530515193939209\n"
          ]
        },
        {
          "output_type": "stream",
          "name": "stderr",
          "text": [
            "Epoch 18/20:  47%|████▋     | 15/32 [00:01<00:01,  9.59batch/s, loss=0.00281]"
          ]
        },
        {
          "output_type": "stream",
          "name": "stdout",
          "text": [
            "CRF Loss: 0.003022909164428711\n",
            "CRF Loss: 0.002369523048400879\n",
            "CRF Loss: 0.0031228065490722656\n"
          ]
        },
        {
          "output_type": "stream",
          "name": "stderr",
          "text": [
            "Epoch 18/20:  59%|█████▉    | 19/32 [00:01<00:01,  9.82batch/s, loss=0.00293]"
          ]
        },
        {
          "output_type": "stream",
          "name": "stdout",
          "text": [
            "CRF Loss: 0.002689763903617859\n",
            "CRF Loss: 0.0019527152180671692\n"
          ]
        },
        {
          "output_type": "stream",
          "name": "stderr",
          "text": [
            "Epoch 18/20:  62%|██████▎   | 20/32 [00:02<00:01,  9.78batch/s, loss=0.00283]"
          ]
        },
        {
          "output_type": "stream",
          "name": "stdout",
          "text": [
            "CRF Loss: 0.003218531608581543\n",
            "CRF Loss: 0.003473997116088867\n",
            "CRF Loss: 0.002811908721923828\n"
          ]
        },
        {
          "output_type": "stream",
          "name": "stderr",
          "text": [
            "Epoch 18/20:  75%|███████▌  | 24/32 [00:02<00:00,  9.67batch/s, loss=0.00284]"
          ]
        },
        {
          "output_type": "stream",
          "name": "stdout",
          "text": [
            "CRF Loss: 0.002815723419189453\n",
            "CRF Loss: 0.003092065453529358\n"
          ]
        },
        {
          "output_type": "stream",
          "name": "stderr",
          "text": [
            "Epoch 18/20:  78%|███████▊  | 25/32 [00:02<00:00,  9.69batch/s, loss=0.00292]"
          ]
        },
        {
          "output_type": "stream",
          "name": "stdout",
          "text": [
            "CRF Loss: 0.003516584634780884\n",
            "CRF Loss: 0.004437759518623352\n",
            "CRF Loss: 0.0035734176635742188\n"
          ]
        },
        {
          "output_type": "stream",
          "name": "stderr",
          "text": [
            "Epoch 18/20:  84%|████████▍ | 27/32 [00:02<00:00,  9.82batch/s, loss=0.00296]"
          ]
        },
        {
          "output_type": "stream",
          "name": "stdout",
          "text": [
            "CRF Loss: 0.0033665671944618225\n",
            "CRF Loss: 0.0032096803188323975\n"
          ]
        },
        {
          "output_type": "stream",
          "name": "stderr",
          "text": [
            "Epoch 18/20:  94%|█████████▍| 30/32 [00:03<00:00,  8.52batch/s, loss=0.003]"
          ]
        },
        {
          "output_type": "stream",
          "name": "stdout",
          "text": [
            "CRF Loss: 0.003765612840652466\n",
            "CRF Loss: 0.003588557243347168\n"
          ]
        },
        {
          "output_type": "stream",
          "name": "stderr",
          "text": [
            "Epoch 18/20: 100%|██████████| 32/32 [00:03<00:00,  9.33batch/s, loss=0.00302]\n"
          ]
        },
        {
          "output_type": "stream",
          "name": "stdout",
          "text": [
            "CRF Loss: 0.003211498260498047\n",
            "cuda\n",
            "Epoch 18/20 - Total Loss: 0.0968\n"
          ]
        },
        {
          "output_type": "stream",
          "name": "stderr",
          "text": [
            "\rEpoch 19/20:   0%|          | 0/32 [00:00<?, ?batch/s]"
          ]
        },
        {
          "output_type": "stream",
          "name": "stdout",
          "text": [
            "CRF Loss: 0.003108687698841095\n"
          ]
        },
        {
          "output_type": "stream",
          "name": "stderr",
          "text": [
            "Epoch 19/20:   3%|▎         | 1/32 [00:00<00:04,  6.76batch/s, loss=0.00311]"
          ]
        },
        {
          "output_type": "stream",
          "name": "stdout",
          "text": [
            "CRF Loss: 0.0030022263526916504\n"
          ]
        },
        {
          "output_type": "stream",
          "name": "stderr",
          "text": [
            "Epoch 19/20:   6%|▋         | 2/32 [00:00<00:04,  7.09batch/s, loss=0.00306]"
          ]
        },
        {
          "output_type": "stream",
          "name": "stdout",
          "text": [
            "CRF Loss: 0.0032756924629211426\n"
          ]
        },
        {
          "output_type": "stream",
          "name": "stderr",
          "text": [
            "Epoch 19/20:   9%|▉         | 3/32 [00:00<00:04,  6.90batch/s, loss=0.00313]"
          ]
        },
        {
          "output_type": "stream",
          "name": "stdout",
          "text": [
            "CRF Loss: 0.0029463768005371094\n"
          ]
        },
        {
          "output_type": "stream",
          "name": "stderr",
          "text": [
            "Epoch 19/20:  12%|█▎        | 4/32 [00:00<00:04,  6.67batch/s, loss=0.00308]"
          ]
        },
        {
          "output_type": "stream",
          "name": "stdout",
          "text": [
            "CRF Loss: 0.002733886241912842\n"
          ]
        },
        {
          "output_type": "stream",
          "name": "stderr",
          "text": [
            "Epoch 19/20:  16%|█▌        | 5/32 [00:00<00:03,  6.88batch/s, loss=0.00301]"
          ]
        },
        {
          "output_type": "stream",
          "name": "stdout",
          "text": [
            "CRF Loss: 0.002826377749443054\n"
          ]
        },
        {
          "output_type": "stream",
          "name": "stderr",
          "text": [
            "Epoch 19/20:  19%|█▉        | 6/32 [00:00<00:03,  6.88batch/s, loss=0.00298]"
          ]
        },
        {
          "output_type": "stream",
          "name": "stdout",
          "text": [
            "CRF Loss: 0.003286898136138916\n"
          ]
        },
        {
          "output_type": "stream",
          "name": "stderr",
          "text": [
            "Epoch 19/20:  22%|██▏       | 7/32 [00:01<00:03,  6.63batch/s, loss=0.00303]"
          ]
        },
        {
          "output_type": "stream",
          "name": "stdout",
          "text": [
            "CRF Loss: 0.002715587615966797\n"
          ]
        },
        {
          "output_type": "stream",
          "name": "stderr",
          "text": [
            "Epoch 19/20:  25%|██▌       | 8/32 [00:01<00:03,  6.45batch/s, loss=0.00299]"
          ]
        },
        {
          "output_type": "stream",
          "name": "stdout",
          "text": [
            "CRF Loss: 0.002189159393310547\n"
          ]
        },
        {
          "output_type": "stream",
          "name": "stderr",
          "text": [
            "Epoch 19/20:  28%|██▊       | 9/32 [00:01<00:03,  6.31batch/s, loss=0.0029]"
          ]
        },
        {
          "output_type": "stream",
          "name": "stdout",
          "text": [
            "CRF Loss: 0.002077817916870117\n"
          ]
        },
        {
          "output_type": "stream",
          "name": "stderr",
          "text": [
            "Epoch 19/20:  31%|███▏      | 10/32 [00:01<00:03,  6.07batch/s, loss=0.00282]"
          ]
        },
        {
          "output_type": "stream",
          "name": "stdout",
          "text": [
            "CRF Loss: 0.0033528506755828857\n"
          ]
        },
        {
          "output_type": "stream",
          "name": "stderr",
          "text": [
            "Epoch 19/20:  34%|███▍      | 11/32 [00:01<00:03,  6.21batch/s, loss=0.00287]"
          ]
        },
        {
          "output_type": "stream",
          "name": "stdout",
          "text": [
            "CRF Loss: 0.0029439404606819153\n"
          ]
        },
        {
          "output_type": "stream",
          "name": "stderr",
          "text": [
            "Epoch 19/20:  38%|███▊      | 12/32 [00:01<00:02,  6.73batch/s, loss=0.00293]"
          ]
        },
        {
          "output_type": "stream",
          "name": "stdout",
          "text": [
            "CRF Loss: 0.003602445125579834\n"
          ]
        },
        {
          "output_type": "stream",
          "name": "stderr",
          "text": [
            "Epoch 19/20:  44%|████▍     | 14/32 [00:02<00:02,  7.94batch/s, loss=0.00316]"
          ]
        },
        {
          "output_type": "stream",
          "name": "stdout",
          "text": [
            "CRF Loss: 0.0030423402786254883\n",
            "CRF Loss: 0.0026034116744995117\n"
          ]
        },
        {
          "output_type": "stream",
          "name": "stderr",
          "text": [
            "Epoch 19/20:  53%|█████▎    | 17/32 [00:02<00:01,  8.88batch/s, loss=0.00292]"
          ]
        },
        {
          "output_type": "stream",
          "name": "stdout",
          "text": [
            "CRF Loss: 0.0032693445682525635\n",
            "CRF Loss: 0.002621769905090332\n",
            "CRF Loss: 0.0031577348709106445\n"
          ]
        },
        {
          "output_type": "stream",
          "name": "stderr",
          "text": [
            "Epoch 19/20:  59%|█████▉    | 19/32 [00:02<00:01,  9.11batch/s, loss=0.00296]"
          ]
        },
        {
          "output_type": "stream",
          "name": "stdout",
          "text": [
            "CRF Loss: 0.003191351890563965\n",
            "CRF Loss: 0.003276720643043518\n"
          ]
        },
        {
          "output_type": "stream",
          "name": "stderr",
          "text": [
            "Epoch 19/20:  66%|██████▌   | 21/32 [00:02<00:01,  9.53batch/s, loss=0.00293]"
          ]
        },
        {
          "output_type": "stream",
          "name": "stdout",
          "text": [
            "CRF Loss: 0.0029734671115875244\n",
            "CRF Loss: 0.0021935701370239258\n",
            "CRF Loss: 0.0020166486501693726\n"
          ]
        },
        {
          "output_type": "stream",
          "name": "stderr",
          "text": [
            "Epoch 19/20:  78%|███████▊  | 25/32 [00:03<00:00,  9.79batch/s, loss=0.00292]"
          ]
        },
        {
          "output_type": "stream",
          "name": "stdout",
          "text": [
            "CRF Loss: 0.0030974149703979492\n",
            "CRF Loss: 0.003507383167743683\n"
          ]
        },
        {
          "output_type": "stream",
          "name": "stderr",
          "text": [
            "Epoch 19/20:  84%|████████▍ | 27/32 [00:03<00:00,  9.59batch/s, loss=0.0029]"
          ]
        },
        {
          "output_type": "stream",
          "name": "stdout",
          "text": [
            "CRF Loss: 0.0026335716247558594\n",
            "CRF Loss: 0.0025899112224578857\n",
            "CRF Loss: 0.0029942989349365234\n"
          ]
        },
        {
          "output_type": "stream",
          "name": "stderr",
          "text": [
            "Epoch 19/20:  91%|█████████ | 29/32 [00:03<00:00,  9.50batch/s, loss=0.00289]"
          ]
        },
        {
          "output_type": "stream",
          "name": "stdout",
          "text": [
            "CRF Loss: 0.00292002409696579\n",
            "CRF Loss: 0.0024214237928390503\n",
            "CRF Loss: 0.0026128292083740234\n"
          ]
        },
        {
          "output_type": "stream",
          "name": "stderr",
          "text": [
            "Epoch 19/20: 100%|██████████| 32/32 [00:03<00:00,  8.31batch/s, loss=0.00282]\n"
          ]
        },
        {
          "output_type": "stream",
          "name": "stdout",
          "text": [
            "CRF Loss: 0.0012106895446777344\n",
            "cuda\n",
            "Epoch 19/20 - Total Loss: 0.0904\n"
          ]
        },
        {
          "output_type": "stream",
          "name": "stderr",
          "text": [
            "Epoch 20/20:   3%|▎         | 1/32 [00:00<00:03,  9.82batch/s, loss=0.00249]"
          ]
        },
        {
          "output_type": "stream",
          "name": "stdout",
          "text": [
            "CRF Loss: 0.002494625747203827\n",
            "CRF Loss: 0.0025854408740997314\n"
          ]
        },
        {
          "output_type": "stream",
          "name": "stderr",
          "text": [
            "Epoch 20/20:  12%|█▎        | 4/32 [00:00<00:02,  9.72batch/s, loss=0.0034]"
          ]
        },
        {
          "output_type": "stream",
          "name": "stdout",
          "text": [
            "CRF Loss: 0.0022118762135505676\n",
            "CRF Loss: 0.002900034189224243\n"
          ]
        },
        {
          "output_type": "stream",
          "name": "stderr",
          "text": [
            "Epoch 20/20:  16%|█▌        | 5/32 [00:00<00:02,  9.66batch/s, loss=0.00278]"
          ]
        },
        {
          "output_type": "stream",
          "name": "stdout",
          "text": [
            "CRF Loss: 0.0028453171253204346\n",
            "CRF Loss: 0.003672376275062561\n"
          ]
        },
        {
          "output_type": "stream",
          "name": "stderr",
          "text": [
            "Epoch 20/20:  22%|██▏       | 7/32 [00:00<00:02,  9.62batch/s, loss=0.00286]"
          ]
        },
        {
          "output_type": "stream",
          "name": "stdout",
          "text": [
            "CRF Loss: 0.0020583271980285645\n",
            "CRF Loss: 0.004081249237060547\n",
            "CRF Loss: 0.0019321292638778687\n"
          ]
        },
        {
          "output_type": "stream",
          "name": "stderr",
          "text": [
            "Epoch 20/20:  34%|███▍      | 11/32 [00:01<00:02,  9.89batch/s, loss=0.00295]"
          ]
        },
        {
          "output_type": "stream",
          "name": "stdout",
          "text": [
            "CRF Loss: 0.002161383628845215\n",
            "CRF Loss: 0.002600952982902527\n",
            "CRF Loss: 0.002294987440109253\n"
          ]
        },
        {
          "output_type": "stream",
          "name": "stderr",
          "text": [
            "Epoch 20/20:  44%|████▍     | 14/32 [00:01<00:01,  9.49batch/s, loss=0.00263]"
          ]
        },
        {
          "output_type": "stream",
          "name": "stdout",
          "text": [
            "CRF Loss: 0.0018001869320869446\n",
            "CRF Loss: 0.0031125545501708984\n"
          ]
        },
        {
          "output_type": "stream",
          "name": "stderr",
          "text": [
            "Epoch 20/20:  50%|█████     | 16/32 [00:01<00:01,  9.38batch/s, loss=0.00257]"
          ]
        },
        {
          "output_type": "stream",
          "name": "stdout",
          "text": [
            "CRF Loss: 0.002124980092048645\n",
            "CRF Loss: 0.0022035837173461914\n"
          ]
        },
        {
          "output_type": "stream",
          "name": "stderr",
          "text": [
            "Epoch 20/20:  53%|█████▎    | 17/32 [00:01<00:01,  9.44batch/s, loss=0.00256]"
          ]
        },
        {
          "output_type": "stream",
          "name": "stdout",
          "text": [
            "CRF Loss: 0.002219080924987793\n",
            "CRF Loss: 0.002847641706466675\n",
            "CRF Loss: 0.0022974982857704163\n"
          ]
        },
        {
          "output_type": "stream",
          "name": "stderr",
          "text": [
            "Epoch 20/20:  66%|██████▌   | 21/32 [00:02<00:01,  9.88batch/s, loss=0.00269]"
          ]
        },
        {
          "output_type": "stream",
          "name": "stdout",
          "text": [
            "CRF Loss: 0.0020489096641540527\n",
            "CRF Loss: 0.0033375322818756104\n",
            "CRF Loss: 0.002369314432144165\n"
          ]
        },
        {
          "output_type": "stream",
          "name": "stderr",
          "text": [
            "Epoch 20/20:  75%|███████▌  | 24/32 [00:02<00:00,  9.76batch/s, loss=0.00272]"
          ]
        },
        {
          "output_type": "stream",
          "name": "stdout",
          "text": [
            "CRF Loss: 0.003198377788066864\n",
            "CRF Loss: 0.0032598674297332764\n"
          ]
        },
        {
          "output_type": "stream",
          "name": "stderr",
          "text": [
            "Epoch 20/20:  81%|████████▏ | 26/32 [00:02<00:00,  9.58batch/s, loss=0.00262]"
          ]
        },
        {
          "output_type": "stream",
          "name": "stdout",
          "text": [
            "CRF Loss: 0.0024468302726745605\n",
            "CRF Loss: 0.0029060840606689453\n"
          ]
        },
        {
          "output_type": "stream",
          "name": "stderr",
          "text": [
            "Epoch 20/20:  88%|████████▊ | 28/32 [00:02<00:00,  9.52batch/s, loss=0.0026]"
          ]
        },
        {
          "output_type": "stream",
          "name": "stdout",
          "text": [
            "CRF Loss: 0.002528965473175049\n",
            "CRF Loss: 0.002125948667526245\n"
          ]
        },
        {
          "output_type": "stream",
          "name": "stderr",
          "text": [
            "Epoch 20/20:  91%|█████████ | 29/32 [00:03<00:00,  9.49batch/s, loss=0.00261]"
          ]
        },
        {
          "output_type": "stream",
          "name": "stdout",
          "text": [
            "CRF Loss: 0.0028299614787101746\n",
            "CRF Loss: 0.00291287899017334\n",
            "CRF Loss: 0.0023041069507598877\n"
          ]
        },
        {
          "output_type": "stream",
          "name": "stderr",
          "text": [
            "Epoch 20/20: 100%|██████████| 32/32 [00:03<00:00,  9.74batch/s, loss=0.00258]"
          ]
        },
        {
          "output_type": "stream",
          "name": "stdout",
          "text": [
            "CRF Loss: 0.0018901824951171875\n",
            "cuda\n",
            "Epoch 20/20 - Total Loss: 0.0826\n",
            "Predictions for 'John is from New York': ['O', 'O', 'O', 'O', 'O']\n"
          ]
        },
        {
          "output_type": "stream",
          "name": "stderr",
          "text": [
            "\n"
          ]
        }
      ],
      "source": [
        "# BiLSTM CRF and CNN Implementation\n",
        "\n",
        "import torch\n",
        "import torch.nn as nn\n",
        "import torch.optim as optim\n",
        "from torchcrf import CRF\n",
        "from sklearn.preprocessing import LabelEncoder\n",
        "from torch.utils.data import DataLoader, TensorDataset\n",
        "import numpy as np\n",
        "\n",
        "import torch\n",
        "import torch.nn as nn\n",
        "import torch.nn.functional as F\n",
        "\n",
        "class BiLSTM_CRF(nn.Module):\n",
        "    def __init__(self, vocab_size, embedding_dim, hidden_dim, tagset_size, padding_idx):\n",
        "        super(BiLSTM_CRF, self).__init__()\n",
        "        self.embedding = nn.Embedding(vocab_size, embedding_dim, padding_idx=padding_idx)\n",
        "        self.lstm = nn.LSTM(embedding_dim, hidden_dim // 2, num_layers=1, bidirectional=True, batch_first=True)\n",
        "        self.hidden2tag = nn.Linear(hidden_dim, tagset_size)\n",
        "        self.crf = CRF(tagset_size, batch_first=True)\n",
        "\n",
        "    def forward(self, sentences):\n",
        "        word_embeds = self.embedding(sentences)\n",
        "        lstm_out, _ = self.lstm(word_embeds)\n",
        "        lstm_out = self.hidden2tag(lstm_out)\n",
        "        return lstm_out\n",
        "\n",
        "    def hamming_loss(self, y_pred, y_true):\n",
        "        return (y_pred != y_true).float().mean()\n",
        "\n",
        "    def neg_log_likelihood(self, sentences, tags, loss_type=\"softmax_margin\"):\n",
        "        lstm_out = self.forward(sentences)\n",
        "        crf_loss = -self.crf(lstm_out, tags, mask=None, reduction='mean')\n",
        "        print(f\"CRF Loss: {crf_loss.item()}\")\n",
        "        predicted_tags = self.crf.decode(lstm_out)\n",
        "        predicted_tags = torch.tensor(predicted_tags, dtype=torch.long).to(tags.device)\n",
        "        hamming_cost = self.hamming_loss(predicted_tags, tags)\n",
        "\n",
        "        if loss_type == \"max_margin\":\n",
        "            margin_loss = torch.max(crf_loss - hamming_cost, torch.tensor(0.0).to(tags.device))\n",
        "            return margin_loss.mean()\n",
        "\n",
        "        elif loss_type == \"softmax_margin\":\n",
        "            log_sum_exp = torch.logsumexp(lstm_out, dim=2)\n",
        "            softmax_margin_loss = torch.mean(log_sum_exp - crf_loss + hamming_cost)\n",
        "            return softmax_margin_loss\n",
        "\n",
        "        elif loss_type == \"ramp_loss\":\n",
        "            ramp_loss = torch.max(crf_loss, torch.tensor(0.0).to(tags.device)) + hamming_cost\n",
        "            return ramp_loss.mean()\n",
        "\n",
        "        elif loss_type == \"soft_ramp_loss\":\n",
        "            soft_ramp_loss = torch.mean(torch.logsumexp(lstm_out, dim=2) + hamming_cost)\n",
        "            return soft_ramp_loss\n",
        "\n",
        "        else:\n",
        "            return crf_loss\n",
        "\n",
        "\n",
        "    def predict(self, sentences):\n",
        "        lstm_out = self.forward(sentences)\n",
        "        return self.crf.decode(lstm_out)\n",
        "\n",
        "\n",
        "\n",
        "sentences = []\n",
        "tags = []\n",
        "with open(\"/content/train\",\"r\") as f:\n",
        "    sentence,tag1 = [],[]\n",
        "    for line in f.readlines():\n",
        "        if(len(line.strip())==0):\n",
        "            sentences.append(sentence)\n",
        "            tags.append(tag1)\n",
        "            tag1 = []\n",
        "            sentence = []\n",
        "        else:\n",
        "            sent,tag = line.strip().split(\"\t\")\n",
        "            sentence.append(sent)\n",
        "            tag1.append(tag)\n",
        "\n",
        "max_train = 500\n",
        "sentences = sentences[:max_train]\n",
        "tags = tags[:max_train]\n",
        "\n",
        "word_vocab = set([word for sentence in sentences for word in sentence])\n",
        "tag_vocab = set([tag for tag_list in tags for tag in tag_list])\n",
        "\n",
        "word2idx = {word: idx+1 for idx, word in enumerate(word_vocab)}\n",
        "word2idx['<PAD>'] = 0\n",
        "tag2idx = {tag: idx for idx, tag in enumerate(tag_vocab)}\n",
        "\n",
        "X_data = [[word2idx[word] for word in sentence] for sentence in sentences]\n",
        "y_data = [[tag2idx[tag] for tag in tag_list] for tag_list in tags]\n",
        "\n",
        "max_len = max(len(sentence) for sentence in X_data)\n",
        "X_data = [sentence + [0] * (max_len - len(sentence)) for sentence in X_data]\n",
        "y_data = [tag_list + [tag2idx['O']] * (max_len - len(tag_list)) for tag_list in y_data]\n",
        "\n",
        "X_tensor = torch.tensor(X_data, dtype=torch.long)\n",
        "y_tensor = torch.tensor(y_data, dtype=torch.long)\n",
        "\n",
        "batch_size = 16\n",
        "train_data = TensorDataset(X_tensor, y_tensor)\n",
        "train_loader = DataLoader(train_data, batch_size=batch_size, shuffle=True)\n",
        "\n",
        "device = torch.device(\"cuda\" if torch.cuda.is_available() else \"cpu\")\n",
        "\n",
        "embedding_dim = 100\n",
        "hidden_dim = 256\n",
        "tagset_size = len(tag2idx)\n",
        "padding_idx = word2idx['<PAD>']\n",
        "\n",
        "model = BiLSTM_CRF(vocab_size=len(word2idx), embedding_dim=embedding_dim, hidden_dim=hidden_dim, tagset_size=tagset_size, padding_idx=padding_idx)\n",
        "model.to(device)\n",
        "\n",
        "optimizer = optim.Adam(model.parameters(), lr=0.001)\n",
        "\n",
        "epochs = 20\n",
        "\n",
        "from tqdm import tqdm\n",
        "\n",
        "for epoch in range(epochs):\n",
        "    model.train()\n",
        "    total_loss = 0\n",
        "\n",
        "    with tqdm(train_loader, desc=f\"Epoch {epoch+1}/{epochs}\", unit=\"batch\") as batch_bar:\n",
        "        for batch_sentences, batch_tags in batch_bar:\n",
        "            batch_sentences = batch_sentences.to(device)\n",
        "            batch_tags = batch_tags.to(device)\n",
        "\n",
        "            model.zero_grad()\n",
        "\n",
        "            loss = model.neg_log_likelihood(batch_sentences, batch_tags,loss_type=\"\")\n",
        "            total_loss += loss.item()\n",
        "\n",
        "            loss.backward()\n",
        "            optimizer.step()\n",
        "            batch_bar.set_postfix(loss=total_loss / (batch_bar.n + 1))\n",
        "\n",
        "    print(device)\n",
        "    print(f\"Epoch {epoch+1}/{epochs} - Total Loss: {total_loss:.4f}\")\n",
        "\n",
        "model.eval()\n",
        "\n",
        "print(f\"Predictions for '{' '.join(test_sentence)}': {predicted_tags}\")"
      ]
    },
    {
      "cell_type": "code",
      "source": [
        "from sklearn.metrics import classification_report\n",
        "import torch\n",
        "\n",
        "def load_data(file_path):\n",
        "    sentences, tags = [], []\n",
        "    with open(file_path, \"r\") as f:\n",
        "        sentence, tag1 = [], []\n",
        "        for line in f.readlines():\n",
        "            if len(line.strip()) == 0:\n",
        "                if sentence:\n",
        "                    sentences.append(sentence)\n",
        "                    tags.append(tag1)\n",
        "                sentence, tag1 = [], []\n",
        "            else:\n",
        "                parts = line.strip().split(\"\\t\")\n",
        "                if len(parts) == 2:\n",
        "                    sent, tag = parts\n",
        "                else:\n",
        "                    sent = parts[0]\n",
        "                    tag = 'O'\n",
        "\n",
        "                sentence.append(sent)\n",
        "                tag1.append(tag)\n",
        "    return sentences, tags\n",
        "\n",
        "def save_predictions(model, dataset_path, output_file, word2idx, tag2idx, device, batch_size=8):\n",
        "    sentences, tags = load_data(dataset_path)\n",
        "    X_data = [[word2idx.get(word, word2idx['<PAD>']) for word in sentence] for sentence in sentences]\n",
        "    max_len_current = max(len(sentence) for sentence in X_data)\n",
        "    X_data = [sentence + [0] * (max_len_current - len(sentence)) for sentence in X_data]\n",
        "\n",
        "    model.eval()\n",
        "    all_predictions = []\n",
        "\n",
        "    with torch.no_grad():\n",
        "        for i in range(0, len(X_data), batch_size):\n",
        "            batch_X = X_data[i:min(i+batch_size, len(X_data))]\n",
        "            X_tensor = torch.tensor(batch_X, dtype=torch.long).to(device)\n",
        "            batch_predictions = model.predict(X_tensor)\n",
        "            all_predictions.extend(batch_predictions)\n",
        "            del X_tensor\n",
        "            torch.cuda.empty_cache()\n",
        "    idx2tag = {idx: tag for tag, idx in tag2idx.items()}\n",
        "    predicted_tags = [[idx2tag[tag] for tag in pred[:len(sentences[i])]] for i, pred in enumerate(all_predictions)]\n",
        "\n",
        "    with open(output_file, \"w\") as f_out:\n",
        "        for sent, pred_tags in zip(sentences, predicted_tags):\n",
        "            for word, tag in zip(sent, pred_tags):\n",
        "                f_out.write(f\"{word}\\t{tag}\\n\")\n",
        "            f_out.write(\"\\n\")\n",
        "\n",
        "    return sentences, tags, predicted_tags\n",
        "\n",
        "def evaluate_model(true_labels, pred_labels):\n",
        "    \"\"\" Compute classification metrics: Precision, Recall, F1-score \"\"\"\n",
        "    true_labels_flat = [tag for sent in true_labels for tag in sent]\n",
        "    pred_labels_flat = [tag for sent in pred_labels for tag in sent]\n",
        "\n",
        "    print(\"\\nClassification Report:\")\n",
        "    print(classification_report(true_labels_flat, pred_labels_flat, zero_division=0))\n",
        "\n",
        "batch_size = 16\n",
        "\n",
        "_, true_tags_dev, pred_tags_dev = save_predictions(\n",
        "    model,\n",
        "    \"/content/dev\",\n",
        "    \"dev.output_3\",\n",
        "    word2idx,\n",
        "    tag2idx,\n",
        "    device,\n",
        "    batch_size\n",
        ")\n",
        "\n",
        "print(\"Processing test set...\")\n",
        "_, true_tags_test, pred_tags_test = save_predictions(\n",
        "    model,\n",
        "    \"/content/test\",\n",
        "    \"test.output_3\",\n",
        "    word2idx,\n",
        "    tag2idx,\n",
        "    device,\n",
        "    batch_size\n",
        ")\n",
        "\n",
        "print(\"Evaluating dev set...\")\n",
        "evaluate_model(true_tags_dev, pred_tags_dev)\n",
        "\n",
        "print(\"Evaluating test set...\")\n",
        "evaluate_model(true_tags_test, pred_tags_test)"
      ],
      "metadata": {
        "colab": {
          "base_uri": "https://localhost:8080/"
        },
        "id": "Ox2-yviMTtoo",
        "outputId": "ab43662a-bbc4-47ac-c46e-fc7e53cf2b5e"
      },
      "execution_count": 14,
      "outputs": [
        {
          "output_type": "stream",
          "name": "stdout",
          "text": [
            "Processing dev set...\n",
            "Processing test set...\n",
            "Evaluating dev set...\n",
            "\n",
            "Classification Report:\n",
            "              precision    recall  f1-score   support\n",
            "\n",
            "       B-DNA       0.00      0.00      0.00         0\n",
            "       B-RNA       0.00      0.00      0.00         0\n",
            " B-cell_line       0.00      0.00      0.00         0\n",
            " B-cell_type       0.00      0.00      0.00         0\n",
            "   B-protein       0.00      0.00      0.00         0\n",
            "       I-DNA       0.00      0.00      0.00         0\n",
            "       I-RNA       0.00      0.00      0.00         0\n",
            " I-cell_line       0.00      0.00      0.00         0\n",
            " I-cell_type       0.00      0.00      0.00         0\n",
            "   I-protein       0.00      0.00      0.00         0\n",
            "           O       1.00      0.89      0.94      2800\n",
            "\n",
            "    accuracy                           0.89      2800\n",
            "   macro avg       0.09      0.08      0.09      2800\n",
            "weighted avg       1.00      0.89      0.94      2800\n",
            "\n",
            "Evaluating test set...\n",
            "\n",
            "Classification Report:\n",
            "              precision    recall  f1-score   support\n",
            "\n",
            "       B-DNA       0.00      0.00      0.00         0\n",
            "       B-RNA       0.00      0.00      0.00         0\n",
            " B-cell_line       0.00      0.00      0.00         0\n",
            " B-cell_type       0.00      0.00      0.00         0\n",
            "   B-protein       0.00      0.00      0.00         0\n",
            "       I-DNA       0.00      0.00      0.00         0\n",
            "       I-RNA       0.00      0.00      0.00         0\n",
            " I-cell_line       0.00      0.00      0.00         0\n",
            " I-cell_type       0.00      0.00      0.00         0\n",
            "   I-protein       0.00      0.00      0.00         0\n",
            "           O       1.00      0.87      0.93    101039\n",
            "\n",
            "    accuracy                           0.87    101039\n",
            "   macro avg       0.09      0.08      0.08    101039\n",
            "weighted avg       1.00      0.87      0.93    101039\n",
            "\n"
          ]
        }
      ]
    },
    {
      "cell_type": "code",
      "source": [],
      "metadata": {
        "id": "WAYnVl0gpahu"
      },
      "execution_count": null,
      "outputs": []
    }
  ],
  "metadata": {
    "kernelspec": {
      "display_name": "Python 3",
      "name": "python3"
    },
    "language_info": {
      "codemirror_mode": {
        "name": "ipython",
        "version": 3
      },
      "file_extension": ".py",
      "mimetype": "text/x-python",
      "name": "python",
      "nbconvert_exporter": "python",
      "pygments_lexer": "ipython3",
      "version": "3.11.11"
    },
    "colab": {
      "provenance": [],
      "gpuType": "T4"
    },
    "accelerator": "GPU"
  },
  "nbformat": 4,
  "nbformat_minor": 0
}